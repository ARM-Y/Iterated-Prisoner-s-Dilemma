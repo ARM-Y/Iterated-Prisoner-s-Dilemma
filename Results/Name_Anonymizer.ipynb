{
 "cells": [
  {
   "cell_type": "markdown",
   "id": "29d76da2",
   "metadata": {},
   "source": [
    "# Import libraries"
   ]
  },
  {
   "cell_type": "code",
   "execution_count": 9,
   "id": "027e253d",
   "metadata": {},
   "outputs": [],
   "source": [
    "import os\n",
    "import json\n",
    "import random\n",
    "import shutil"
   ]
  },
  {
   "cell_type": "markdown",
   "id": "16983bbc",
   "metadata": {},
   "source": [
    "# Anonymizing Student Names"
   ]
  },
  {
   "cell_type": "code",
   "execution_count": 10,
   "id": "901f959d",
   "metadata": {},
   "outputs": [
    {
     "name": "stdout",
     "output_type": "stream",
     "text": [
      "Created new directory: 'Anonymized_Strategies'\n"
     ]
    }
   ],
   "source": [
    "# Define the source and destination directories\n",
    "source_directory = 'strategies'\n",
    "anonymized_directory = 'Anonymized_Strategies'\n",
    "\n",
    "# Dictionary to store the name mapping\n",
    "name_mapping = {}\n",
    "\n",
    "# Create the new directory if it doesn't exist\n",
    "os.makedirs(anonymized_directory, exist_ok=True)\n",
    "print(f\"Created new directory: '{anonymized_directory}'\")"
   ]
  },
  {
   "cell_type": "code",
   "execution_count": 11,
   "id": "c9ce75ca",
   "metadata": {},
   "outputs": [],
   "source": [
    "# Get a list of all .ipynb files in the source directory\n",
    "ipynb_files = [f for f in os.listdir(source_directory) if f.endswith('.ipynb')]\n",
    "\n",
    "# Commented for not revealing the names\n",
    "# ipynb_files"
   ]
  },
  {
   "cell_type": "markdown",
   "id": "14b25fa3",
   "metadata": {},
   "source": [
    "Using the anonymizer below, the true names will be altered to anonymized ones."
   ]
  },
  {
   "cell_type": "code",
   "execution_count": 12,
   "id": "d4ed831a",
   "metadata": {},
   "outputs": [
    {
     "name": "stdout",
     "output_type": "stream",
     "text": [
      "Saved name mapping to 'name_mapping.json'\n"
     ]
    }
   ],
   "source": [
    "# LEN is the number of ipynb files\n",
    "LEN = len(ipynb_files)\n",
    "\n",
    "if not ipynb_files:\n",
    "    print(f\"No .ipynb files found in the '{source_directory}' directory.\")\n",
    "else:\n",
    "    # A set to keep track of used numbers to ensure uniqueness\n",
    "    used_numbers = set()\n",
    "\n",
    "    for old_filename in ipynb_files:\n",
    "        # Generate a unique random number between 1 and LEN\n",
    "        while True:\n",
    "            random_number = random.randint(1, LEN)\n",
    "            if random_number not in used_numbers:\n",
    "                used_numbers.add(random_number)\n",
    "                break\n",
    "\n",
    "        new_name = f'Student_{random_number:03d}'\n",
    "        new_filename = f'{new_name}.ipynb'\n",
    "\n",
    "        old_filepath = os.path.join(source_directory, old_filename)\n",
    "        new_filepath = os.path.join(anonymized_directory, new_filename)\n",
    "        \n",
    "        # Copy the file to the new directory\n",
    "        shutil.copy(old_filepath, new_filepath)\n",
    "        # Commented print for not revealing the names\n",
    "        # print(f\"Copied '{old_filename}' to '{anonymized_directory}' as '{new_filename}'\")\n",
    "        \n",
    "        # Modify the content of the new file\n",
    "        with open(new_filepath, 'r+', encoding='utf-8') as f:\n",
    "            notebook_data = json.load(f)\n",
    "\n",
    "            for cell in notebook_data['cells']:\n",
    "                if cell['cell_type'] == 'code':\n",
    "                    source = cell['source']\n",
    "                    for i, line in enumerate(source):\n",
    "                        # Look for the 'def' keyword to find the function definition\n",
    "                        if line.strip().startswith('def'):\n",
    "                         # Create the new function definition line\n",
    "                            new_line = f\"def {new_name}(history):\\n\"\n",
    "                            source[i] = new_line\n",
    "                            # Commented print for not revealing the names\n",
    "                            #print(f\"Function name in '{new_filename}' changed to '{new_name}'\")\n",
    "                            break # Assume one function per notebook\n",
    "\n",
    "                    # Replace the old source with the modified source\n",
    "                    cell['source'] = source\n",
    "\n",
    "            # Go back to the beginning of the file and write the new data\n",
    "            f.seek(0)\n",
    "            json.dump(notebook_data, f, indent=4)\n",
    "            f.truncate()\n",
    "            \n",
    "            # Add the old and new name to the dictionary\n",
    "            name_mapping[old_filename] = new_filename\n",
    "\n",
    "    # Save the name mapping dictionary to a JSON file\n",
    "    json_filepath = os.path.join('','name_mapping.json')\n",
    "    with open(json_filepath, 'w', encoding='utf-8') as json_file:\n",
    "        json.dump(name_mapping, json_file, indent=4)\n",
    "        print(f\"Saved name mapping to '{json_filepath}'\")"
   ]
  }
 ],
 "metadata": {
  "kernelspec": {
   "display_name": "Python 3 (ipykernel)",
   "language": "python",
   "name": "python3"
  },
  "language_info": {
   "codemirror_mode": {
    "name": "ipython",
    "version": 3
   },
   "file_extension": ".py",
   "mimetype": "text/x-python",
   "name": "python",
   "nbconvert_exporter": "python",
   "pygments_lexer": "ipython3",
   "version": "3.11.5"
  }
 },
 "nbformat": 4,
 "nbformat_minor": 5
}
