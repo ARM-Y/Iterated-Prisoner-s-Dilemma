{
 "cells": [
  {
   "cell_type": "markdown",
   "id": "2680c446",
   "metadata": {},
   "source": [
    "## Importing libraries"
   ]
  },
  {
   "cell_type": "code",
   "execution_count": 1,
   "id": "eecc83d7",
   "metadata": {},
   "outputs": [],
   "source": [
    "import random\n",
    "import pandas as pd\n",
    "import random\n",
    "import os\n",
    "import json\n",
    "import re\n",
    "from IPython import get_ipython"
   ]
  },
  {
   "cell_type": "markdown",
   "id": "504168ae",
   "metadata": {},
   "source": [
    "## Extracting Strategies"
   ]
  },
  {
   "cell_type": "code",
   "execution_count": 2,
   "id": "d71efe0d",
   "metadata": {},
   "outputs": [
    {
     "name": "stdout",
     "output_type": "stream",
     "text": [
      "Extracted function names (strategies): ['Student_001', 'Student_002', 'Student_003', 'Student_004', 'Student_005', 'Student_006', 'Student_007', 'Student_008', 'Student_009', 'Student_010', 'Student_011', 'Student_012', 'Student_013', 'Student_014']\n"
     ]
    }
   ],
   "source": [
    "# Function to extract the single function from a given IPYNB file and get its name\n",
    "def extract_function_from_ipynb(file_path):\n",
    "    with open(file_path, 'r', encoding='utf-8') as f:\n",
    "        notebook_content = json.load(f)\n",
    "    \n",
    "    function_code = \"\"\n",
    "    function_name = None\n",
    "    function_name_pattern = re.compile(r\"def\\s+(\\w+)\\s*\\(.*\\):\")\n",
    "    \n",
    "    for cell in notebook_content['cells']:\n",
    "        if cell['cell_type'] == 'code':\n",
    "            code = ''.join(cell['source'])\n",
    "            function_code += code + '\\n'\n",
    "            match = function_name_pattern.search(code)\n",
    "            if match:\n",
    "                function_name = match.group(1)\n",
    "    \n",
    "    return function_code, function_name\n",
    "\n",
    "# Function to run the extracted functions\n",
    "def run_extracted_functions(function_code):\n",
    "    ipython = get_ipython()\n",
    "    ipython.run_cell(function_code)\n",
    "\n",
    "# Path to the folder containing IPYNB files\n",
    "folder_path = 'Anonymized_Strategies'\n",
    "\n",
    "all_function_code = \"\"\n",
    "strategies_Name = []\n",
    "\n",
    "# Iterate through all IPYNB files in the specified folder\n",
    "for file_name in os.listdir(folder_path):\n",
    "    if file_name.endswith('.ipynb'):\n",
    "        file_path = os.path.join(folder_path, file_name)\n",
    "        function_code, function_name = extract_function_from_ipynb(file_path)\n",
    "        all_function_code += function_code + '\\n'\n",
    "        if function_name:\n",
    "            strategies_Name.append(function_name)\n",
    "\n",
    "# Run all the extracted function code\n",
    "run_extracted_functions(all_function_code)\n",
    "\n",
    "# Print the list of function names\n",
    "print(\"Extracted function names (strategies):\", strategies_Name)"
   ]
  },
  {
   "cell_type": "code",
   "execution_count": 5,
   "id": "266237d7",
   "metadata": {},
   "outputs": [
    {
     "data": {
      "text/plain": [
       "[<function __main__.Student_001(history)>,\n",
       " <function __main__.Student_002(history)>,\n",
       " <function __main__.Student_003(history)>,\n",
       " <function __main__.Student_004(history)>,\n",
       " <function __main__.Student_005(history)>,\n",
       " <function __main__.Student_006(history)>,\n",
       " <function __main__.Student_007(history)>,\n",
       " <function __main__.Student_008(history)>,\n",
       " <function __main__.Student_009(history)>,\n",
       " <function __main__.Student_010(history)>,\n",
       " <function __main__.Student_011(history)>,\n",
       " <function __main__.Student_012(history)>,\n",
       " <function __main__.Student_013(history)>,\n",
       " <function __main__.Student_014(history)>]"
      ]
     },
     "execution_count": 5,
     "metadata": {},
     "output_type": "execute_result"
    }
   ],
   "source": [
    "# changing the strings to function names\n",
    "strategies = [globals()[name] for name in strategies_Name]\n",
    "strategies"
   ]
  },
  {
   "cell_type": "code",
   "execution_count": 6,
   "id": "28862998",
   "metadata": {},
   "outputs": [
    {
     "name": "stdout",
     "output_type": "stream",
     "text": [
      "Number of players(Strategies): 14\n"
     ]
    }
   ],
   "source": [
    "print(\"Number of players(Strategies):\", len(strategies))"
   ]
  },
  {
   "cell_type": "markdown",
   "id": "7f14ecb0",
   "metadata": {},
   "source": [
    "An altered version of play function for gathering information in competition"
   ]
  },
  {
   "cell_type": "code",
   "execution_count": 7,
   "id": "bab96b3c",
   "metadata": {},
   "outputs": [],
   "source": [
    "def play_game(strategy1, strategy2):\n",
    "\n",
    "    score1 = 0\n",
    "    score2 = 0\n",
    "\n",
    "    for _ in range(20):\n",
    "        move1 = strategy1(history)\n",
    "        flipped_history = [(move2, move1) for move1, move2 in history]\n",
    "        move2 = strategy2(flipped_history)\n",
    "\n",
    "        if move1 == \"Cooperate\" and move2 == \"Cooperate\":\n",
    "            score1 += 3\n",
    "            score2 += 3\n",
    "        elif move1 == \"Cooperate\" and move2 == \"Defect\":\n",
    "            score1 += 0\n",
    "            score2 += 5\n",
    "        elif move1 == \"Defect\" and move2 == \"Cooperate\":\n",
    "            score1 += 5\n",
    "            score2 += 0\n",
    "        elif move1 == \"Defect\" and move2 == \"Defect\":\n",
    "            score1 += 1\n",
    "            score2 += 1\n",
    "\n",
    "        history.append((move1, move2))\n",
    "\n",
    "    if score1 > score2:\n",
    "        return strategy1.__name__, strategy2.__name__, score1, score2, strategy1.__name__ + \" wins\"\n",
    "    elif score2 > score1:\n",
    "        return strategy1.__name__, strategy2.__name__, score1, score2, strategy2.__name__ + \" wins\"\n",
    "    else:\n",
    "        return strategy1.__name__, strategy2.__name__, score1, score2, \"It's a tie\""
   ]
  },
  {
   "cell_type": "markdown",
   "id": "24557b72",
   "metadata": {},
   "source": [
    "# Main competition\n",
    "\n",
    "Since some strategies are not deterministic, we use a specified random seed to generate numbers, which ensures the results are reproducible."
   ]
  },
  {
   "cell_type": "code",
   "execution_count": 8,
   "id": "dfcee034",
   "metadata": {},
   "outputs": [
    {
     "data": {
      "text/plain": [
       "10"
      ]
     },
     "execution_count": 8,
     "metadata": {},
     "output_type": "execute_result"
    }
   ],
   "source": [
    "# Generate a random integer between 0 and 50\n",
    "random_seed = random.randint(0, 100)\n",
    "random_seed"
   ]
  },
  {
   "cell_type": "markdown",
   "id": "f2852a86",
   "metadata": {},
   "source": [
    "The random number is 10."
   ]
  },
  {
   "cell_type": "code",
   "execution_count": 9,
   "id": "686d5585",
   "metadata": {
    "scrolled": false
   },
   "outputs": [
    {
     "data": {
      "text/html": [
       "<div>\n",
       "<style scoped>\n",
       "    .dataframe tbody tr th:only-of-type {\n",
       "        vertical-align: middle;\n",
       "    }\n",
       "\n",
       "    .dataframe tbody tr th {\n",
       "        vertical-align: top;\n",
       "    }\n",
       "\n",
       "    .dataframe thead th {\n",
       "        text-align: right;\n",
       "    }\n",
       "</style>\n",
       "<table border=\"1\" class=\"dataframe\">\n",
       "  <thead>\n",
       "    <tr style=\"text-align: right;\">\n",
       "      <th></th>\n",
       "      <th>Strategy</th>\n",
       "      <th>Total Score</th>\n",
       "      <th>Wins</th>\n",
       "      <th>Losses</th>\n",
       "      <th>Draws</th>\n",
       "    </tr>\n",
       "  </thead>\n",
       "  <tbody>\n",
       "    <tr>\n",
       "      <th>2</th>\n",
       "      <td>Student_003</td>\n",
       "      <td>662</td>\n",
       "      <td>0</td>\n",
       "      <td>5</td>\n",
       "      <td>8</td>\n",
       "    </tr>\n",
       "    <tr>\n",
       "      <th>0</th>\n",
       "      <td>Student_001</td>\n",
       "      <td>658</td>\n",
       "      <td>6</td>\n",
       "      <td>4</td>\n",
       "      <td>3</td>\n",
       "    </tr>\n",
       "    <tr>\n",
       "      <th>6</th>\n",
       "      <td>Student_007</td>\n",
       "      <td>656</td>\n",
       "      <td>10</td>\n",
       "      <td>0</td>\n",
       "      <td>3</td>\n",
       "    </tr>\n",
       "    <tr>\n",
       "      <th>5</th>\n",
       "      <td>Student_006</td>\n",
       "      <td>648</td>\n",
       "      <td>10</td>\n",
       "      <td>0</td>\n",
       "      <td>3</td>\n",
       "    </tr>\n",
       "    <tr>\n",
       "      <th>13</th>\n",
       "      <td>Student_014</td>\n",
       "      <td>640</td>\n",
       "      <td>0</td>\n",
       "      <td>5</td>\n",
       "      <td>8</td>\n",
       "    </tr>\n",
       "    <tr>\n",
       "      <th>7</th>\n",
       "      <td>Student_008</td>\n",
       "      <td>633</td>\n",
       "      <td>0</td>\n",
       "      <td>4</td>\n",
       "      <td>9</td>\n",
       "    </tr>\n",
       "    <tr>\n",
       "      <th>12</th>\n",
       "      <td>Student_013</td>\n",
       "      <td>633</td>\n",
       "      <td>1</td>\n",
       "      <td>3</td>\n",
       "      <td>9</td>\n",
       "    </tr>\n",
       "    <tr>\n",
       "      <th>10</th>\n",
       "      <td>Student_011</td>\n",
       "      <td>626</td>\n",
       "      <td>6</td>\n",
       "      <td>5</td>\n",
       "      <td>2</td>\n",
       "    </tr>\n",
       "    <tr>\n",
       "      <th>3</th>\n",
       "      <td>Student_004</td>\n",
       "      <td>615</td>\n",
       "      <td>0</td>\n",
       "      <td>6</td>\n",
       "      <td>7</td>\n",
       "    </tr>\n",
       "    <tr>\n",
       "      <th>1</th>\n",
       "      <td>Student_002</td>\n",
       "      <td>609</td>\n",
       "      <td>0</td>\n",
       "      <td>6</td>\n",
       "      <td>7</td>\n",
       "    </tr>\n",
       "    <tr>\n",
       "      <th>4</th>\n",
       "      <td>Student_005</td>\n",
       "      <td>600</td>\n",
       "      <td>0</td>\n",
       "      <td>4</td>\n",
       "      <td>9</td>\n",
       "    </tr>\n",
       "    <tr>\n",
       "      <th>9</th>\n",
       "      <td>Student_010</td>\n",
       "      <td>594</td>\n",
       "      <td>0</td>\n",
       "      <td>6</td>\n",
       "      <td>7</td>\n",
       "    </tr>\n",
       "    <tr>\n",
       "      <th>11</th>\n",
       "      <td>Student_012</td>\n",
       "      <td>591</td>\n",
       "      <td>6</td>\n",
       "      <td>0</td>\n",
       "      <td>7</td>\n",
       "    </tr>\n",
       "    <tr>\n",
       "      <th>8</th>\n",
       "      <td>Student_009</td>\n",
       "      <td>548</td>\n",
       "      <td>9</td>\n",
       "      <td>0</td>\n",
       "      <td>4</td>\n",
       "    </tr>\n",
       "  </tbody>\n",
       "</table>\n",
       "</div>"
      ],
      "text/plain": [
       "       Strategy  Total Score  Wins  Losses  Draws\n",
       "2   Student_003          662     0       5      8\n",
       "0   Student_001          658     6       4      3\n",
       "6   Student_007          656    10       0      3\n",
       "5   Student_006          648    10       0      3\n",
       "13  Student_014          640     0       5      8\n",
       "7   Student_008          633     0       4      9\n",
       "12  Student_013          633     1       3      9\n",
       "10  Student_011          626     6       5      2\n",
       "3   Student_004          615     0       6      7\n",
       "1   Student_002          609     0       6      7\n",
       "4   Student_005          600     0       4      9\n",
       "9   Student_010          594     0       6      7\n",
       "11  Student_012          591     6       0      7\n",
       "8   Student_009          548     9       0      4"
      ]
     },
     "execution_count": 9,
     "metadata": {},
     "output_type": "execute_result"
    }
   ],
   "source": [
    "# Using the predefined random seed for reproducibility\n",
    "random.seed(random_seed)\n",
    "\n",
    "# Initialize results storage\n",
    "results = []\n",
    "histories = []\n",
    "\n",
    "# Play games between each unique pair of strategies\n",
    "for i in range(len(strategies)):\n",
    "    for j in range(i + 1, len(strategies)):\n",
    "        strategy1 = strategies[i]\n",
    "        strategy2 = strategies[j]\n",
    "        history = []\n",
    "        result = play_game(strategy1, strategy2)\n",
    "        results.append(result)\n",
    "        histories.append(history)\n",
    "\n",
    "# Create DataFrame\n",
    "df = pd.DataFrame(results, columns=[\"Strategy 1\", \"Strategy 2\", \"Score 1\", \"Score 2\", \"Result\"])\n",
    "\n",
    "# Calculate score summations, wins, losses, draws\n",
    "summary = []\n",
    "for strategy in strategies:\n",
    "    name = strategy.__name__\n",
    "    total_score = df.loc[df[\"Strategy 1\"] == name, \"Score 1\"].sum() + df.loc[df[\"Strategy 2\"] == name, \"Score 2\"].sum()\n",
    "    wins = len(df[(df[\"Strategy 1\"] == name) & (df[\"Result\"] == name + \" wins\")]) + len(df[(df[\"Strategy 2\"] == name) & (df[\"Result\"] == name + \" wins\")])\n",
    "    losses = len(df[(df[\"Strategy 1\"] == name) & (df[\"Result\"] != name + \" wins\") & (df[\"Result\"] != \"It's a tie\")]) + len(df[(df[\"Strategy 2\"] == name) & (df[\"Result\"] != name + \" wins\") & (df[\"Result\"] != \"It's a tie\")])\n",
    "    draws = len(df[(df[\"Strategy 1\"] == name) & (df[\"Result\"] == \"It's a tie\")]) + len(df[(df[\"Strategy 2\"] == name) & (df[\"Result\"] == \"It's a tie\")])\n",
    "    \n",
    "    summary.append((name, total_score, wins, losses, draws))\n",
    "\n",
    "summary_df = pd.DataFrame(summary, columns=[\"Strategy\", \"Total Score\", \"Wins\", \"Losses\", \"Draws\"])\n",
    "\n",
    "summary_df = summary_df.sort_values(by='Total Score', ascending=False)\n",
    "summary_df"
   ]
  },
  {
   "cell_type": "code",
   "execution_count": 10,
   "id": "5e832f6e",
   "metadata": {},
   "outputs": [
    {
     "data": {
      "text/html": [
       "<div>\n",
       "<style scoped>\n",
       "    .dataframe tbody tr th:only-of-type {\n",
       "        vertical-align: middle;\n",
       "    }\n",
       "\n",
       "    .dataframe tbody tr th {\n",
       "        vertical-align: top;\n",
       "    }\n",
       "\n",
       "    .dataframe thead th {\n",
       "        text-align: right;\n",
       "    }\n",
       "</style>\n",
       "<table border=\"1\" class=\"dataframe\">\n",
       "  <thead>\n",
       "    <tr style=\"text-align: right;\">\n",
       "      <th></th>\n",
       "      <th>Strategy 1</th>\n",
       "      <th>Strategy 2</th>\n",
       "      <th>Score 1</th>\n",
       "      <th>Score 2</th>\n",
       "      <th>Result</th>\n",
       "    </tr>\n",
       "  </thead>\n",
       "  <tbody>\n",
       "    <tr>\n",
       "      <th>0</th>\n",
       "      <td>Student_001</td>\n",
       "      <td>Student_002</td>\n",
       "      <td>82</td>\n",
       "      <td>27</td>\n",
       "      <td>Student_001 wins</td>\n",
       "    </tr>\n",
       "    <tr>\n",
       "      <th>1</th>\n",
       "      <td>Student_001</td>\n",
       "      <td>Student_003</td>\n",
       "      <td>44</td>\n",
       "      <td>44</td>\n",
       "      <td>It's a tie</td>\n",
       "    </tr>\n",
       "    <tr>\n",
       "      <th>2</th>\n",
       "      <td>Student_001</td>\n",
       "      <td>Student_004</td>\n",
       "      <td>80</td>\n",
       "      <td>30</td>\n",
       "      <td>Student_001 wins</td>\n",
       "    </tr>\n",
       "    <tr>\n",
       "      <th>3</th>\n",
       "      <td>Student_001</td>\n",
       "      <td>Student_005</td>\n",
       "      <td>56</td>\n",
       "      <td>41</td>\n",
       "      <td>Student_001 wins</td>\n",
       "    </tr>\n",
       "    <tr>\n",
       "      <th>4</th>\n",
       "      <td>Student_001</td>\n",
       "      <td>Student_006</td>\n",
       "      <td>12</td>\n",
       "      <td>52</td>\n",
       "      <td>Student_006 wins</td>\n",
       "    </tr>\n",
       "    <tr>\n",
       "      <th>...</th>\n",
       "      <td>...</td>\n",
       "      <td>...</td>\n",
       "      <td>...</td>\n",
       "      <td>...</td>\n",
       "      <td>...</td>\n",
       "    </tr>\n",
       "    <tr>\n",
       "      <th>86</th>\n",
       "      <td>Student_011</td>\n",
       "      <td>Student_013</td>\n",
       "      <td>57</td>\n",
       "      <td>57</td>\n",
       "      <td>It's a tie</td>\n",
       "    </tr>\n",
       "    <tr>\n",
       "      <th>87</th>\n",
       "      <td>Student_011</td>\n",
       "      <td>Student_014</td>\n",
       "      <td>61</td>\n",
       "      <td>56</td>\n",
       "      <td>Student_011 wins</td>\n",
       "    </tr>\n",
       "    <tr>\n",
       "      <th>88</th>\n",
       "      <td>Student_012</td>\n",
       "      <td>Student_013</td>\n",
       "      <td>50</td>\n",
       "      <td>50</td>\n",
       "      <td>It's a tie</td>\n",
       "    </tr>\n",
       "    <tr>\n",
       "      <th>89</th>\n",
       "      <td>Student_012</td>\n",
       "      <td>Student_014</td>\n",
       "      <td>50</td>\n",
       "      <td>50</td>\n",
       "      <td>It's a tie</td>\n",
       "    </tr>\n",
       "    <tr>\n",
       "      <th>90</th>\n",
       "      <td>Student_013</td>\n",
       "      <td>Student_014</td>\n",
       "      <td>60</td>\n",
       "      <td>60</td>\n",
       "      <td>It's a tie</td>\n",
       "    </tr>\n",
       "  </tbody>\n",
       "</table>\n",
       "<p>91 rows × 5 columns</p>\n",
       "</div>"
      ],
      "text/plain": [
       "     Strategy 1   Strategy 2  Score 1  Score 2            Result\n",
       "0   Student_001  Student_002       82       27  Student_001 wins\n",
       "1   Student_001  Student_003       44       44        It's a tie\n",
       "2   Student_001  Student_004       80       30  Student_001 wins\n",
       "3   Student_001  Student_005       56       41  Student_001 wins\n",
       "4   Student_001  Student_006       12       52  Student_006 wins\n",
       "..          ...          ...      ...      ...               ...\n",
       "86  Student_011  Student_013       57       57        It's a tie\n",
       "87  Student_011  Student_014       61       56  Student_011 wins\n",
       "88  Student_012  Student_013       50       50        It's a tie\n",
       "89  Student_012  Student_014       50       50        It's a tie\n",
       "90  Student_013  Student_014       60       60        It's a tie\n",
       "\n",
       "[91 rows x 5 columns]"
      ]
     },
     "execution_count": 10,
     "metadata": {},
     "output_type": "execute_result"
    }
   ],
   "source": [
    "df"
   ]
  },
  {
   "cell_type": "code",
   "execution_count": 11,
   "id": "9cece044",
   "metadata": {},
   "outputs": [
    {
     "name": "stdout",
     "output_type": "stream",
     "text": [
      "Saving was successful!\n"
     ]
    }
   ],
   "source": [
    "# Saving all games' results\n",
    "df.to_excel(r'Anonymized_Games.xlsx', index=False)\n",
    "print(\"Saving was successful!\")"
   ]
  },
  {
   "cell_type": "code",
   "execution_count": 12,
   "id": "e611382b",
   "metadata": {},
   "outputs": [
    {
     "name": "stdout",
     "output_type": "stream",
     "text": [
      "Saving was successful!\n"
     ]
    }
   ],
   "source": [
    "# Saving the result table\n",
    "summary_df.to_excel(r'Anonymized_Result_Table.xlsx', index=False)\n",
    "print(\"Saving was successful!\")"
   ]
  },
  {
   "cell_type": "code",
   "execution_count": 13,
   "id": "7d8a2214",
   "metadata": {},
   "outputs": [
    {
     "name": "stdout",
     "output_type": "stream",
     "text": [
      "Number of all played games:  91\n"
     ]
    }
   ],
   "source": [
    "print(\"Number of all played games: \", len(histories))"
   ]
  },
  {
   "cell_type": "markdown",
   "id": "13f7531f",
   "metadata": {},
   "source": [
    "An arbitrary history game can be obtained as follows:"
   ]
  },
  {
   "cell_type": "code",
   "execution_count": 14,
   "id": "78bce7cb",
   "metadata": {},
   "outputs": [
    {
     "data": {
      "text/plain": [
       "[('Defect', 'Defect'),\n",
       " ('Cooperate', 'Defect'),\n",
       " ('Cooperate', 'Cooperate'),\n",
       " ('Cooperate', 'Cooperate'),\n",
       " ('Defect', 'Cooperate'),\n",
       " ('Cooperate', 'Defect'),\n",
       " ('Cooperate', 'Cooperate'),\n",
       " ('Defect', 'Cooperate'),\n",
       " ('Defect', 'Defect'),\n",
       " ('Defect', 'Defect'),\n",
       " ('Defect', 'Defect'),\n",
       " ('Cooperate', 'Defect'),\n",
       " ('Defect', 'Cooperate'),\n",
       " ('Defect', 'Defect'),\n",
       " ('Cooperate', 'Defect'),\n",
       " ('Cooperate', 'Cooperate'),\n",
       " ('Cooperate', 'Cooperate'),\n",
       " ('Defect', 'Cooperate'),\n",
       " ('Defect', 'Defect'),\n",
       " ('Defect', 'Defect')]"
      ]
     },
     "execution_count": 14,
     "metadata": {},
     "output_type": "execute_result"
    }
   ],
   "source": [
    "Play_number = 7\n",
    "histories[Play_number]"
   ]
  }
 ],
 "metadata": {
  "kernelspec": {
   "display_name": "Python 3 (ipykernel)",
   "language": "python",
   "name": "python3"
  },
  "language_info": {
   "codemirror_mode": {
    "name": "ipython",
    "version": 3
   },
   "file_extension": ".py",
   "mimetype": "text/x-python",
   "name": "python",
   "nbconvert_exporter": "python",
   "pygments_lexer": "ipython3",
   "version": "3.11.5"
  }
 },
 "nbformat": 4,
 "nbformat_minor": 5
}
