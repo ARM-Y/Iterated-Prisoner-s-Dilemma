{
    "cells": [
        {
            "cell_type": "code",
            "execution_count": 1,
            "metadata": {
                "colab": {
                    "base_uri": "https://localhost:8080/"
                },
                "executionInfo": {
                    "elapsed": 595,
                    "status": "ok",
                    "timestamp": 1717701103713,
                    "user": {
                        "displayName": "Mahdi Sabzi",
                        "userId": "09314523141766128436"
                    },
                    "user_tz": -210
                },
                "id": "DWnyrowp8K5s",
                "outputId": "3b44ae4f-474f-4594-d2d8-c05725fedfa1"
            },
            "outputs": [],
            "source": [
                "def Student_010(history):\n",
                "    return\"Cooperate\""
            ]
        }
    ],
    "metadata": {
        "colab": {
            "authorship_tag": "ABX9TyOmRlFIwJZitfYwE6bDinsL",
            "provenance": []
        },
        "kernelspec": {
            "display_name": "Python 3 (ipykernel)",
            "language": "python",
            "name": "python3"
        },
        "language_info": {
            "codemirror_mode": {
                "name": "ipython",
                "version": 3
            },
            "file_extension": ".py",
            "mimetype": "text/x-python",
            "name": "python",
            "nbconvert_exporter": "python",
            "pygments_lexer": "ipython3",
            "version": "3.11.5"
        }
    },
    "nbformat": 4,
    "nbformat_minor": 1
}