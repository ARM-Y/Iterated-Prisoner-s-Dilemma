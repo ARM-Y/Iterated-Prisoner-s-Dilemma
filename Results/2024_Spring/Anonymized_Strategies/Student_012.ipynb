{
    "cells": [
        {
            "cell_type": "code",
            "execution_count": 39,
            "id": "b7f4eb17",
            "metadata": {},
            "outputs": [],
            "source": [
                "def Student_012(history):\n",
                "\n",
                "    if not history:\n",
                "        return 'Defect'\n",
                "\n",
                "    my_last_move, opponent_last_move = history[-1]\n",
                "\n",
                "    recent_defections = sum(1 for _, opp_move in history[-3:] if opp_move == 'Defect')\n",
                "\n",
                "    if opponent_last_move == 'Defect':\n",
                "        opponent_cooperation_rate = sum(1 for _, opp_move in history if opp_move == 'Cooperate') / len(history)\n",
                "        \n",
                "        if opponent_cooperation_rate > 0.8 and recent_defections < 2:\n",
                "            return 'Cooperate'\n",
                "        else:\n",
                "            return 'Defect'\n",
                "    \n",
                "    if opponent_last_move == 'Cooperate':\n",
                "        return 'Cooperate'\n",
                "\n",
                "    if my_last_move == 'Defect' and opponent_last_move == 'Defect':\n",
                "        return 'Cooperate'\n",
                "\n",
                "    return opponent_last_move"
            ]
        }
    ],
    "metadata": {
        "kernelspec": {
            "display_name": "Python 3 (ipykernel)",
            "language": "python",
            "name": "python3"
        },
        "language_info": {
            "codemirror_mode": {
                "name": "ipython",
                "version": 3
            },
            "file_extension": ".py",
            "mimetype": "text/x-python",
            "name": "python",
            "nbconvert_exporter": "python",
            "pygments_lexer": "ipython3",
            "version": "3.11.5"
        }
    },
    "nbformat": 4,
    "nbformat_minor": 5
}