{
    "cells": [
        {
            "cell_type": "code",
            "execution_count": 1,
            "id": "eecc83d7",
            "metadata": {
                "id": "eecc83d7"
            },
            "outputs": [],
            "source": [
                "def Student_009(history):\n",
                "    if len(history) == 0:\n",
                "        return \"Defect\"\n",
                "    if len(history) == 1:\n",
                "        return \"Defect\"\n",
                "    elif len(history) == 19:\n",
                "        return \"Defect\"\n",
                "    else:\n",
                "        # Cooperate if the opponent cooperated in the last round, else defect\n",
                "        opponent_last_move = history[-1][1]\n",
                "        return opponent_last_move"
            ]
        }
    ],
    "metadata": {
        "colab": {
            "provenance": []
        },
        "kernelspec": {
            "display_name": "Python 3 (ipykernel)",
            "language": "python",
            "name": "python3"
        },
        "language_info": {
            "codemirror_mode": {
                "name": "ipython",
                "version": 3
            },
            "file_extension": ".py",
            "mimetype": "text/x-python",
            "name": "python",
            "nbconvert_exporter": "python",
            "pygments_lexer": "ipython3",
            "version": "3.11.5"
        }
    },
    "nbformat": 4,
    "nbformat_minor": 5
}