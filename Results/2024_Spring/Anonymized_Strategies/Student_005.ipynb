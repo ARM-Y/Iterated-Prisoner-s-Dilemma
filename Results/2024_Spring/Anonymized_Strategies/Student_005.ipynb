{
    "cells": [
        {
            "cell_type": "code",
            "execution_count": null,
            "id": "fc71250e",
            "metadata": {},
            "outputs": [],
            "source": [
                "def Student_005(history):\n",
                "\n",
                "    if len(history) == 0:\n",
                "        return \"Cooperate\"\n",
                "    else:\n",
                "        opponent_moves = [move[1] for move in history]\n",
                "\n",
                "        if len(opponent_moves) >= 2 and opponent_moves[-1] == \"Defect\" and opponent_moves[-2] == \"Defect\":\n",
                "            return \"Defect\"\n",
                "        else:\n",
                "            defection_rate = opponent_moves.count(\"Defect\") / len(opponent_moves)\n",
                "            if random.random() > defection_rate:\n",
                "                return \"Cooperate\"\n",
                "            else:\n",
                "                return \"Defect\""
            ]
        }
    ],
    "metadata": {
        "colab": {
            "provenance": []
        },
        "kernelspec": {
            "display_name": "Python 3 (ipykernel)",
            "language": "python",
            "name": "python3"
        },
        "language_info": {
            "codemirror_mode": {
                "name": "ipython",
                "version": 3
            },
            "file_extension": ".py",
            "mimetype": "text/x-python",
            "name": "python",
            "nbconvert_exporter": "python",
            "pygments_lexer": "ipython3",
            "version": "3.11.5"
        }
    },
    "nbformat": 4,
    "nbformat_minor": 5
}