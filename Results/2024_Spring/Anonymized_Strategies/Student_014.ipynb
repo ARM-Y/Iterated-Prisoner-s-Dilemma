{
    "cells": [
        {
            "cell_type": "code",
            "execution_count": 1,
            "metadata": {
                "id": "loJijyiZbuVl"
            },
            "outputs": [],
            "source": [
                "def Student_014(history):\n",
                "    if len(history) == 0:\n",
                "        return \"Cooperate\"\n",
                "\n",
                "    opponent_last_move = history[-1][1]\n",
                "\n",
                "    if opponent_last_move == \"Defect\" and random.random() < 0.09:\n",
                "        return \"Cooperate\"\n",
                "\n",
                "    if opponent_last_move == \"Cooperate\":\n",
                "        return \"Cooperate\"\n",
                "    else:\n",
                "        return \"Defect\""
            ]
        }
    ],
    "metadata": {
        "colab": {
            "provenance": []
        },
        "kernelspec": {
            "display_name": "Python 3 (ipykernel)",
            "language": "python",
            "name": "python3"
        },
        "language_info": {
            "codemirror_mode": {
                "name": "ipython",
                "version": 3
            },
            "file_extension": ".py",
            "mimetype": "text/x-python",
            "name": "python",
            "nbconvert_exporter": "python",
            "pygments_lexer": "ipython3",
            "version": "3.11.5"
        }
    },
    "nbformat": 4,
    "nbformat_minor": 1
}