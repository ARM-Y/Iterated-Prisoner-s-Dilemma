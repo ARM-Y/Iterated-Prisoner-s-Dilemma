{
    "cells": [
        {
            "cell_type": "code",
            "execution_count": null,
            "id": "f7a3c41f",
            "metadata": {},
            "outputs": [],
            "source": [
                "def Student_011(history):\n",
                "  \"\"\"\n",
                "  A strategy that cooperates 90% of the time and defects 10% of the time.\n",
                "  \"\"\"\n",
                "  if random.random() < 0.9:\n",
                "    return \"Cooperate\"\n",
                "  else:\n",
                "    return \"Defect\""
            ]
        }
    ],
    "metadata": {
        "kernelspec": {
            "display_name": "Python 3 (ipykernel)",
            "language": "python",
            "name": "python3"
        },
        "language_info": {
            "codemirror_mode": {
                "name": "ipython",
                "version": 3
            },
            "file_extension": ".py",
            "mimetype": "text/x-python",
            "name": "python",
            "nbconvert_exporter": "python",
            "pygments_lexer": "ipython3",
            "version": "3.11.5"
        }
    },
    "nbformat": 4,
    "nbformat_minor": 5
}