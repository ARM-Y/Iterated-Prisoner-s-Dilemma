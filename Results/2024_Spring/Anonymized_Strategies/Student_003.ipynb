{
    "cells": [
        {
            "cell_type": "code",
            "execution_count": null,
            "id": "beed0f51",
            "metadata": {},
            "outputs": [],
            "source": [
                "def Student_003(history):\n",
                "    # Custom strategy logic\n",
                "    if len(history) < 3:\n",
                "        return \"Cooperate\"\n",
                "    else:\n",
                "        # Look at the last 3 opponent moves and decide based on that\n",
                "        opponent_moves = [move for (_, move) in history[-3:]]\n",
                "        if opponent_moves.count(\"Defect\") >= 2:\n",
                "            return \"Defect\"\n",
                "        else:\n",
                "            return \"Cooperate\""
            ]
        }
    ],
    "metadata": {
        "kernelspec": {
            "display_name": "Python 3 (ipykernel)",
            "language": "python",
            "name": "python3"
        },
        "language_info": {
            "codemirror_mode": {
                "name": "ipython",
                "version": 3
            },
            "file_extension": ".py",
            "mimetype": "text/x-python",
            "name": "python",
            "nbconvert_exporter": "python",
            "pygments_lexer": "ipython3",
            "version": "3.11.5"
        }
    },
    "nbformat": 4,
    "nbformat_minor": 5
}