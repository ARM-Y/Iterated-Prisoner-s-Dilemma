{
    "cells": [
        {
            "cell_type": "code",
            "execution_count": 1,
            "metadata": {
                "colab": {
                    "base_uri": "https://localhost:8080/"
                },
                "id": "VfjHtCYnKATu",
                "outputId": "1876d239-ea15-4380-9576-344c42539ae0"
            },
            "outputs": [],
            "source": [
                "def Student_013(history):\n",
                "    # \u062f\u0631 \u0627\u0628\u062a\u062f\u0627\u06cc \u0628\u0627\u0632\u06cc \u0628\u0627 \u0647\u0645\u06a9\u0627\u0631\u06cc \u0634\u0631\u0648\u0639 \u06a9\u0646\n",
                "    if len(history) == 0:\n",
                "        return \"Cooperate\"\n",
                "\n",
                "    # \u062a\u062d\u0644\u06cc\u0644 \u062d\u0631\u06a9\u0627\u062a \u062d\u0631\u06cc\u0641\n",
                "    opponent_moves = [move[1] for move in history]\n",
                "    coop_count = opponent_moves.count(\"Cooperate\")\n",
                "    defect_count = opponent_moves.count(\"Defect\")\n",
                "\n",
                "    # \u0627\u06af\u0631 \u062d\u0631\u06cc\u0641 \u0628\u06cc\u0634\u062a\u0631 \u0627\u0632 \u0647\u0645\u06a9\u0627\u0631\u06cc\u060c \u062e\u06cc\u0627\u0646\u062a \u06a9\u0631\u062f\u0647 \u0627\u0633\u062a\u060c \u0628\u0647 \u062e\u06cc\u0627\u0646\u062a \u06a9\u0631\u062f\u0646 \u062a\u063a\u06cc\u06cc\u0631 \u0628\u062f\u0647\n",
                "    if defect_count > coop_count:\n",
                "        return \"Defect\"\n",
                "\n",
                "    # \u0627\u0633\u062a\u0631\u0627\u062a\u0698\u06cc \u067e\u0627\u0633\u062e \u0628\u0647 \u0622\u062e\u0631\u06cc\u0646 \u062d\u0631\u06a9\u062a \u0628\u0627 \u06cc\u06a9 \u062a\u063a\u06cc\u06cc\u0631 \u06a9\u0648\u0686\u06a9\n",
                "    if history[-1][1] == \"Defect\":\n",
                "        return \"Defect\"\n",
                "    else:\n",
                "        return \"Cooperate\""
            ]
        }
    ],
    "metadata": {
        "colab": {
            "provenance": []
        },
        "kernelspec": {
            "display_name": "Python 3 (ipykernel)",
            "language": "python",
            "name": "python3"
        },
        "language_info": {
            "codemirror_mode": {
                "name": "ipython",
                "version": 3
            },
            "file_extension": ".py",
            "mimetype": "text/x-python",
            "name": "python",
            "nbconvert_exporter": "python",
            "pygments_lexer": "ipython3",
            "version": "3.11.5"
        }
    },
    "nbformat": 4,
    "nbformat_minor": 1
}