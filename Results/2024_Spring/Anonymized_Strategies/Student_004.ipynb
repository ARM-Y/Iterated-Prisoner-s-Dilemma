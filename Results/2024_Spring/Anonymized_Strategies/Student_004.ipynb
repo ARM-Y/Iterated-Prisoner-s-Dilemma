{
    "cells": [
        {
            "cell_type": "code",
            "execution_count": 1,
            "id": "eecc83d7",
            "metadata": {
                "id": "eecc83d7"
            },
            "outputs": [],
            "source": [
                "def Student_004(history):\n",
                "    threshold = 0.6\n",
                "    if len(history) == 0:\n",
                "        return \"Cooperate\"\n",
                "\n",
                "    opponent_moves = [move for _, move in history]\n",
                "    opponent_cooperated = len(opponent_moves) / len(opponent_moves)\n",
                "\n",
                "    if opponent_cooperated >= threshold:\n",
                "        return \"Cooperate\"\n",
                "    else:\n",
                "        return \"Defect\""
            ]
        }
    ],
    "metadata": {
        "colab": {
            "provenance": []
        },
        "kernelspec": {
            "display_name": "Python 3 (ipykernel)",
            "language": "python",
            "name": "python3"
        },
        "language_info": {
            "codemirror_mode": {
                "name": "ipython",
                "version": 3
            },
            "file_extension": ".py",
            "mimetype": "text/x-python",
            "name": "python",
            "nbconvert_exporter": "python",
            "pygments_lexer": "ipython3",
            "version": "3.11.5"
        }
    },
    "nbformat": 4,
    "nbformat_minor": 5
}