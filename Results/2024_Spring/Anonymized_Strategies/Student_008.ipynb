{
    "cells": [
        {
            "cell_type": "code",
            "execution_count": 2,
            "metadata": {
                "colab": {
                    "base_uri": "https://localhost:8080/"
                },
                "id": "9HPonqQtugWL",
                "outputId": "a46041f9-81bb-41fe-bf3b-21fc8837e492"
            },
            "outputs": [],
            "source": [
                "def Student_008(history):\n",
                "    if len(history) == 0:\n",
                "        return \"Cooperate\"  # Cooperate in the first round\n",
                "\n",
                "    opponent_moves = [move[1] for move in history]\n",
                "    num_rounds = len(history)\n",
                "\n",
                "    # Calculate the cooperation rate of the opponent\n",
                "    cooperation_rate = opponent_moves.count(\"Cooperate\") / num_rounds\n",
                "\n",
                "    # If the opponent has cooperated more than 80% of the time, always cooperate\n",
                "    if cooperation_rate > 0.8:\n",
                "        return \"Cooperate\"\n",
                "\n",
                "    # If the opponent has cooperated between 50% and 80% of the time, tit-for-tat\n",
                "    elif 0.5 <= cooperation_rate <= 0.8:\n",
                "        if history[-1][1] == \"Defect\":\n",
                "            return \"Defect\"  # Retaliate\n",
                "        else:\n",
                "            return \"Cooperate\"\n",
                "\n",
                "    # If the opponent has cooperated less than 50% of the time, be more aggressive\n",
                "    else:\n",
                "        # If the opponent has defected in the last 3 rounds, defect\n",
                "        if \"Defect\" in opponent_moves[-3:]:\n",
                "            return \"Defect\"\n",
                "        # Otherwise, cooperate with a 25% chance\n",
                "        elif random.random() < 0.25:\n",
                "            return \"Cooperate\"\n",
                "        else:\n",
                "            return \"Defect\""
            ]
        }
    ],
    "metadata": {
        "colab": {
            "provenance": []
        },
        "kernelspec": {
            "display_name": "Python 3 (ipykernel)",
            "language": "python",
            "name": "python3"
        },
        "language_info": {
            "codemirror_mode": {
                "name": "ipython",
                "version": 3
            },
            "file_extension": ".py",
            "mimetype": "text/x-python",
            "name": "python",
            "nbconvert_exporter": "python",
            "pygments_lexer": "ipython3",
            "version": "3.11.5"
        }
    },
    "nbformat": 4,
    "nbformat_minor": 1
}