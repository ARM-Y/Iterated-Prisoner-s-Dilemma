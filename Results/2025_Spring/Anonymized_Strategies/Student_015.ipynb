{
    "cells": [
        {
            "cell_type": "code",
            "execution_count": null,
            "id": "0d117925",
            "metadata": {},
            "outputs": [],
            "source": [
                "def Student_015(history):\n",
                "\n",
                "    if not history: # \u062f\u0648\u0631 \u0627\u0648\u0644\n",
                "        return \"Cooperate\"\n",
                "\n",
                "    last_opponent_move = history[-1][1] # \u062d\u0631\u06a9\u062a \u0622\u062e\u0631 \u0631\u0642\u06cc\u0628\n",
                "\n",
                "    if last_opponent_move == \"Cooperate\":\n",
                "        return \"Cooperate\"\n",
                "    else:\n",
                "        return \"Defect\""
            ]
        }
    ],
    "metadata": {
        "kernelspec": {
            "display_name": "Python 3 (ipykernel)",
            "language": "python",
            "name": "python3"
        },
        "language_info": {
            "codemirror_mode": {
                "name": "ipython",
                "version": 3
            },
            "file_extension": ".py",
            "mimetype": "text/x-python",
            "name": "python",
            "nbconvert_exporter": "python",
            "pygments_lexer": "ipython3",
            "version": "3.11.5"
        }
    },
    "nbformat": 4,
    "nbformat_minor": 5
}