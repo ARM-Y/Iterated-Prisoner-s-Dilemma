{
    "cells": [
        {
            "cell_type": "code",
            "execution_count": null,
            "id": "7987e7d6",
            "metadata": {},
            "outputs": [],
            "source": [
                "def Student_023(history):\n",
                "    if len(history) == 0:\n",
                "        return \"Cooperate\"\n",
                "\n",
                "    opponent_moves = [move[1] for move in history]\n",
                "\n",
                "    # If opponent defected 2 or more times in the last 3 rounds, retaliate\n",
                "    if len(opponent_moves) >= 3:\n",
                "        recent = opponent_moves[-3:]\n",
                "        if recent.count(\"Defect\") >= 2:\n",
                "            return \"Defect\"\n",
                "\n",
                "    # Otherwise, mimic last move\n",
                "    return opponent_moves[-1]\n"
            ]
        }
    ],
    "metadata": {
        "kernelspec": {
            "display_name": "Python 3 (ipykernel)",
            "language": "python",
            "name": "python3"
        },
        "language_info": {
            "codemirror_mode": {
                "name": "ipython",
                "version": 3
            },
            "file_extension": ".py",
            "mimetype": "text/x-python",
            "name": "python",
            "nbconvert_exporter": "python",
            "pygments_lexer": "ipython3",
            "version": "3.11.5"
        }
    },
    "nbformat": 4,
    "nbformat_minor": 5
}