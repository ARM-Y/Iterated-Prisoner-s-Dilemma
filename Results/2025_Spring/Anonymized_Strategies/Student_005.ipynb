{
    "cells": [
        {
            "cell_type": "code",
            "execution_count": null,
            "id": "b7f4eb17",
            "metadata": {},
            "outputs": [],
            "source": [
                "def Student_005(history):\n",
                "    if not history:\n",
                "        return \"Cooperate\"  \n",
                "    \n",
                "    if len(history) >= 2:\n",
                "        last_two_moves = [history[-1][1], history[-2][1]]\n",
                "        if last_two_moves == [\"Defect\", \"Defect\"]:\n",
                "            return \"Defect\"  \n",
                "    \n",
                "    return \"Cooperate\"  "
            ]
        }
    ],
    "metadata": {
        "kernelspec": {
            "display_name": "Python 3 (ipykernel)",
            "language": "python",
            "name": "python3"
        },
        "language_info": {
            "codemirror_mode": {
                "name": "ipython",
                "version": 3
            },
            "file_extension": ".py",
            "mimetype": "text/x-python",
            "name": "python",
            "nbconvert_exporter": "python",
            "pygments_lexer": "ipython3",
            "version": "3.11.5"
        }
    },
    "nbformat": 4,
    "nbformat_minor": 5
}