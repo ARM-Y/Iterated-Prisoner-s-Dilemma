{
    "cells": [
        {
            "cell_type": "code",
            "execution_count": 121,
            "id": "aec98123b6020983",
            "metadata": {
                "ExecuteTime": {
                    "end_time": "2025-06-07T07:12:52.077006Z",
                    "start_time": "2025-06-07T07:12:52.067302Z"
                }
            },
            "outputs": [],
            "source": [
                "import random\n",
                "def Student_005():\n",
                "    if not history:\n",
                "        return \"Defect\"\n",
                "\n",
                "    my_moves = [x[0] for x in history]\n",
                "    opp_moves = [x[1] for x in history]\n",
                "    n = len(history)\n",
                "    defect_rate = opp_moves.count(\"Defect\") / n\n",
                "\n",
                "\n",
                "    if n <= 3:\n",
                "        if \"Defect\" in opp_moves:\n",
                "            return \"Defect\"\n",
                "        return \"Cooperate\" if random.random() < 0.3 else \"Defect\"\n",
                "\n",
                "\n",
                "    if defect_rate > 0.35:\n",
                "        return \"Defect\"\n",
                "\n",
                "\n",
                "    if opp_moves[-3:].count(\"Cooperate\") >= 2 and random.random() < 0.7:\n",
                "        return \"Defect\"\n",
                "\n",
                "\n",
                "    if opp_moves[-2:] == [\"Defect\", \"Defect\"]:\n",
                "        return \"Defect\"\n",
                "\n",
                "    if n % 7 == 0:\n",
                "        return \"Defect\"\n",
                "\n",
                "    if random.random() < 0.05:\n",
                "        return \"Cooperate\"\n",
                "\n",
                "    return \"Defect\"\n"
            ]
        }
    ],
    "metadata": {
        "kernelspec": {
            "display_name": "Python 3 (ipykernel)",
            "language": "python",
            "name": "python3"
        },
        "language_info": {
            "codemirror_mode": {
                "name": "ipython",
                "version": 3
            },
            "file_extension": ".py",
            "mimetype": "text/x-python",
            "name": "python",
            "nbconvert_exporter": "python",
            "pygments_lexer": "ipython3",
            "version": "3.11.5"
        }
    },
    "nbformat": 4,
    "nbformat_minor": 5
}