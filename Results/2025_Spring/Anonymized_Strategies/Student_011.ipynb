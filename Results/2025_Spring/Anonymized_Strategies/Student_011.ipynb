{
    "cells": [
        {
            "cell_type": "code",
            "execution_count": null,
            "id": "db7985d7",
            "metadata": {},
            "outputs": [],
            "source": [
                "def Student_011(history):\n",
                "   \n",
                "    # If it's the first round, always Cooperate.\n",
                "    if len(history) == 0:\n",
                "        return \"Cooperate\"\n",
                "    else:\n",
                "        # Check if the opponent has ever defected in the past.\n",
                "        # history[:, 1] is not directly usable here. We need to iterate or use a generator.\n",
                "        for round_moves in history:\n",
                "            opponent_move = round_moves[1] # The opponent's move in this specific past round\n",
                "            if opponent_move == \"Defect\":\n",
                "                # If the opponent has ever defected, defect from now on.\n",
                "                return \"Defect\"\n",
                "        # If the opponent has never defected so far, continue to cooperate.\n",
                "        return \"Cooperate\"\n",
                "\n",
                "\n"
            ]
        }
    ],
    "metadata": {
        "kernelspec": {
            "display_name": "Python 3 (ipykernel)",
            "language": "python",
            "name": "python3"
        },
        "language_info": {
            "codemirror_mode": {
                "name": "ipython",
                "version": 3
            },
            "file_extension": ".py",
            "mimetype": "text/x-python",
            "name": "python",
            "nbconvert_exporter": "python",
            "pygments_lexer": "ipython3",
            "version": "3.11.5"
        }
    },
    "nbformat": 4,
    "nbformat_minor": 5
}