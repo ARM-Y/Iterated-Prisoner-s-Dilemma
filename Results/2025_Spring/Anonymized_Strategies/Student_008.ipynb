{
    "cells": [
        {
            "cell_type": "code",
            "execution_count": null,
            "id": "16dd3218",
            "metadata": {},
            "outputs": [],
            "source": [
                "import random\n",
                "# Zamani strategy for the Iterated Prisoner's Dilemma\n",
                "# This strategy is designed to be adaptive and responsive to the opponent's behavior.\n",
                "def Student_008():\n",
                "    \n",
                "    if len(history) == 0:\n",
                "        return \"Cooperate\"\n",
                "\n",
                "    opponent_moves = [move[1] for move in history]\n",
                "    opponent_defections = opponent_moves.count(\"Defect\")\n",
                "    num_rounds_played = len(history)\n",
                "\n",
                "\n",
                "    if num_rounds_played >= 3 and opponent_moves[-3:] == [\"Defect\"] * 3:\n",
                "        return \"Defect\"\n",
                "\n",
                "    MIN_ROUNDS_FOR_RATE_CHECK = 4 \n",
                "    if num_rounds_played >= MIN_ROUNDS_FOR_RATE_CHECK and \\\n",
                "       opponent_defections > 0 and \\\n",
                "       (opponent_defections / num_rounds_played) > 0.4:\n",
                "        if random.random() < 0.8:  \n",
                "            return \"Defect\"\n",
                "        else:\n",
                "            return \"Cooperate\"\n",
                "\n",
                "    if history[-1][1] == \"Defect\":\n",
                "        if random.random() < 0.3: \n",
                "            return \"Cooperate\"\n",
                "        else:  \n",
                "            return \"Defect\"\n",
                "\n",
                "    \n",
                "    if random.random() < 0.05:  \n",
                "        return \"Defect\"\n",
                "\n",
                "    return \"Cooperate\""
            ]
        }
    ],
    "metadata": {
        "kernelspec": {
            "display_name": "Python 3 (ipykernel)",
            "language": "python",
            "name": "python3"
        },
        "language_info": {
            "codemirror_mode": {
                "name": "ipython",
                "version": 3
            },
            "file_extension": ".py",
            "mimetype": "text/x-python",
            "name": "python",
            "nbconvert_exporter": "python",
            "pygments_lexer": "ipython3",
            "version": "3.11.5"
        }
    },
    "nbformat": 4,
    "nbformat_minor": 5
}