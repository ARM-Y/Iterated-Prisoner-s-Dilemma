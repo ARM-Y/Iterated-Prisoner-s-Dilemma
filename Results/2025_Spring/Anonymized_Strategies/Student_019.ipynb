{
    "cells": [
        {
            "cell_type": "code",
            "execution_count": null,
            "id": "b205f204",
            "metadata": {},
            "outputs": [],
            "source": [
                "def Student_019():\n",
                "    \"\"\"\n",
                "    \u0627\u0633\u062a\u0631\u0627\u062a\u0698\u06cc \u062a\u06a9\u0631\u0627\u0631\u0634\u0648\u0646\u062f\u0647 \u0628\u0627\u0632\u06cc \u0632\u0646\u062f\u0627\u0646\u06cc \u0628\u0631\u0627\u06cc \u062f\u0627\u0646\u0634\u062c\u0648 402471251\n",
                "    \"\"\"\n",
                "\n",
                "    # \u0634\u0631\u0648\u0639 \u0628\u0627\u0632\u06cc: \u0647\u0645\u06cc\u0634\u0647 \u0647\u0645\u06a9\u0627\u0631\u06cc\n",
                "    if not history:\n",
                "        return \"Cooperate\"\n",
                "\n",
                "    # \u0634\u0645\u0627\u0631\u0634 \u062e\u06cc\u0627\u0646\u062a\u200c\u0647\u0627\u06cc \u0645\u062a\u0648\u0627\u0644\u06cc \u062d\u0631\u06cc\u0641 \u062f\u0631 \u0622\u062e\u0631\u06cc\u0646 \u062d\u0631\u06a9\u0627\u062a\n",
                "    defect_streak = 0\n",
                "    for my, opp in reversed(history[-3:]):  # \u0641\u0642\u0637 \u0633\u0647 \u062d\u0631\u06a9\u062a \u0627\u062e\u06cc\u0631 \u0631\u0627 \u0686\u06a9 \u0645\u06cc\u200c\u06a9\u0646\u06cc\u0645\n",
                "        if opp == \"Defect\":\n",
                "            defect_streak += 1\n",
                "        else:\n",
                "            break\n",
                "\n",
                "    # \u0627\u06af\u0631 \u06f2 \u0628\u0627\u0631 \u067e\u0634\u062a\u200c\u0633\u0631 \u0647\u0645 \u062e\u06cc\u0627\u0646\u062a \u06a9\u0631\u062f \u2192 \u0645\u0627 \u0647\u0645 \u062e\u06cc\u0627\u0646\u062a \u0645\u06cc\u200c\u06a9\u0646\u06cc\u0645\n",
                "    if defect_streak >= 2:\n",
                "        return \"Defect\"\n",
                "\n",
                "    # \u0627\u06af\u0631 \u0637\u0631\u0641 \u0627\u0635\u0644\u0627\u062d \u0634\u062f\u0647 \u2192 \u0645\u0627 \u0647\u0645 \u0647\u0645\u06a9\u0627\u0631\u06cc \u0645\u06cc\u200c\u06a9\u0646\u06cc\u0645\n",
                "    if history[-1][1] == \"Cooperate\":\n",
                "        return \"Cooperate\"\n",
                "\n",
                "    # \u062d\u0627\u0644\u062a \u067e\u06cc\u0634\u200c\u0641\u0631\u0636: \u0647\u0645\u06a9\u0627\u0631\u06cc\n",
                "    return \"Cooperate\"\n"
            ]
        }
    ],
    "metadata": {
        "kernelspec": {
            "display_name": "Python 3 (ipykernel)",
            "language": "python",
            "name": "python3"
        },
        "language_info": {
            "codemirror_mode": {
                "name": "ipython",
                "version": 3
            },
            "file_extension": ".py",
            "mimetype": "text/x-python",
            "name": "python",
            "nbconvert_exporter": "python",
            "pygments_lexer": "ipython3",
            "version": "3.11.5"
        }
    },
    "nbformat": 4,
    "nbformat_minor": 5
}