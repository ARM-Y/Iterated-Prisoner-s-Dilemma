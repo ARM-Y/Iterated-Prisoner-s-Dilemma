{
    "cells": [
        {
            "cell_type": "code",
            "execution_count": null,
            "id": "9dc0acfe",
            "metadata": {},
            "outputs": [],
            "source": [
                "def Student_012(history):\n",
                "    if not history:\n",
                "        return \"Cooperate\"\n",
                "\n",
                "    my_moves, opponent_moves = zip(*history)\n",
                "\n",
                "    last_my_move = my_moves[-1]\n",
                "    last_opponent_move = opponent_moves[-1]\n",
                "\n",
                "    recent_defects = opponent_moves[-3:].count(\"Defect\")\n",
                "\n",
                "    if last_opponent_move == \"Defect\":\n",
                "        if recent_defects >= 2:\n",
                "            return \"Cooperate\"\n",
                "        return \"Defect\"\n",
                "\n",
                "    return \"Cooperate\""
            ]
        }
    ],
    "metadata": {
        "kernelspec": {
            "display_name": "Python 3 (ipykernel)",
            "language": "python",
            "name": "python3"
        },
        "language_info": {
            "codemirror_mode": {
                "name": "ipython",
                "version": 3
            },
            "file_extension": ".py",
            "mimetype": "text/x-python",
            "name": "python",
            "nbconvert_exporter": "python",
            "pygments_lexer": "ipython3",
            "version": "3.11.5"
        }
    },
    "nbformat": 4,
    "nbformat_minor": 5
}