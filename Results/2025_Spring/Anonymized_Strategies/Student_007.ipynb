{
    "cells": [
        {
            "cell_type": "code",
            "execution_count": null,
            "id": "636ed09b-a4f1-4fee-8ecc-0b0993c96074",
            "metadata": {},
            "outputs": [],
            "source": [
                "def Student_007(history):\n",
                "    if len(history) == 0:\n",
                "        return \"Cooperate\"  # \u0647\u0645\u06a9\u0627\u0631\u06cc \u062f\u0631 \u062f\u0648\u0631 \u0627\u0648\u0644\n",
                "    \n",
                "    # \u0645\u062d\u0627\u0633\u0628\u0647 \u062f\u0631\u0635\u062f \u0647\u0645\u06a9\u0627\u0631\u06cc \u062d\u0631\u06cc\u0641\n",
                "    opponent_moves = [move[1] for move in history]\n",
                "    cooperation_rate = opponent_moves.count(\"Cooperate\") / len(opponent_moves)\n",
                "    \n",
                "    # \u0627\u06af\u0631 \u062d\u0631\u06cc\u0641 \u0628\u06cc\u0634 \u0627\u0632 70% \u0645\u0648\u0627\u0642\u0639 \u0647\u0645\u06a9\u0627\u0631\u06cc \u06a9\u0631\u062f\u0647 \u0628\u0627\u0634\u062f\u060c \u0647\u0645\u06a9\u0627\u0631\u06cc \u06a9\u0646\u06cc\u0645\n",
                "    if cooperation_rate > 0.7:\n",
                "        return \"Cooperate\"\n",
                "    \n",
                "    # \u0627\u06af\u0631 \u062d\u0631\u06cc\u0641 \u0627\u062e\u06cc\u0631\u0627\u064b \u062e\u06cc\u0627\u0646\u062a \u06a9\u0631\u062f\u0647 \u0628\u0627\u0634\u062f\u060c \u062a\u0644\u0627\u0641\u06cc \u06a9\u0646\u06cc\u0645\n",
                "    if history[-1][1] == \"Defect\":\n",
                "        return \"Defect\"\n",
                "    \n",
                "    # \u062f\u0631 \u0634\u0631\u0627\u06cc\u0637 \u0645\u0628\u0647\u0645\u060c \u0628\u0627 \u0627\u062d\u062a\u0645\u0627\u0644 80% \u0647\u0645\u06a9\u0627\u0631\u06cc \u06a9\u0646\u06cc\u0645\n",
                "    if random.random() < 0.8:\n",
                "        return \"Cooperate\"\n",
                "    else:\n",
                "        return \"Defect\""
            ]
        }
    ],
    "metadata": {
        "kernelspec": {
            "display_name": "Python 3 (ipykernel)",
            "language": "python",
            "name": "python3"
        },
        "language_info": {
            "codemirror_mode": {
                "name": "ipython",
                "version": 3
            },
            "file_extension": ".py",
            "mimetype": "text/x-python",
            "name": "python",
            "nbconvert_exporter": "python",
            "pygments_lexer": "ipython3",
            "version": "3.11.5"
        }
    },
    "nbformat": 4,
    "nbformat_minor": 5
}