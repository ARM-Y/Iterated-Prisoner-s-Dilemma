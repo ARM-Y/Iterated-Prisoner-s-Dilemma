{
    "cells": [
        {
            "cell_type": "code",
            "execution_count": null,
            "id": "ea85c54f",
            "metadata": {},
            "outputs": [],
            "source": [
                "def Student_018(history):\n",
                "    if len(history) == 0:\n",
                "        return \"Cooperate\"\n",
                "\n",
                "    opponent_last_move = history[-1][1]\n",
                "    if opponent_last_move == \"Cooperate\":\n",
                "        return \"Cooperate\" if random.random() < 0.95 else \"Defect\"\n",
                "    recent_opponent_moves = [h[1] for h in history[-3:]] if len(history) >= 3 else [h[1] for h in history]\n",
                "    defection_count = recent_opponent_moves.count(\"Defect\")\n",
                "    if defection_count >= 2:\n",
                "        return \"Defect\"\n",
                "\n",
                "    return \"Cooperate\" if random.random() < 0.6 else \"Defect\""
            ]
        }
    ],
    "metadata": {
        "colab": {
            "provenance": []
        },
        "kernelspec": {
            "display_name": "Python 3 (ipykernel)",
            "language": "python",
            "name": "python3"
        },
        "language_info": {
            "codemirror_mode": {
                "name": "ipython",
                "version": 3
            },
            "file_extension": ".py",
            "mimetype": "text/x-python",
            "name": "python",
            "nbconvert_exporter": "python",
            "pygments_lexer": "ipython3",
            "version": "3.11.5"
        }
    },
    "nbformat": 4,
    "nbformat_minor": 5
}