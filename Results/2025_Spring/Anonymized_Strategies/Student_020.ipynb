{
    "cells": [
        {
            "cell_type": "code",
            "execution_count": null,
            "id": "e5d27a8c",
            "metadata": {},
            "outputs": [],
            "source": [
                "def Student_020(history):\n",
                "    # \u0627\u06af\u0631 \u0647\u0646\u0648\u0632 \u0628\u0627\u0632\u06cc \u0634\u0631\u0648\u0639 \u0646\u0634\u062f\u0647 (\u0647\u06cc\u0686 history \u0646\u062f\u0627\u0631\u06cc\u0645)\n",
                "    if not history:\n",
                "        return \"Cooperate\"\n",
                "    \n",
                "    # \u062c\u062f\u0627 \u06a9\u0631\u062f\u0646 \u062d\u0631\u06a9\u0627\u062a \u062d\u0631\u06cc\u0641 \u0627\u0632 history\n",
                "    opponent_moves = [h[1] for h in history]\n",
                "    total = len(opponent_moves)\n",
                "    defections = opponent_moves.count(\"Defect\")\n",
                "    \n",
                "    # \u0646\u0633\u0628\u062a \u062f\u0641\u0639\u0627\u062a \u062e\u06cc\u0627\u0646\u062a \u062d\u0631\u06cc\u0641\n",
                "    defect_ratio = defections / total\n",
                "    \n",
                "    # \u0627\u06af\u0631 \u062e\u06cc\u0644\u06cc \u062e\u06cc\u0627\u0646\u062a \u06a9\u0631\u062f\u0647\u060c \u062e\u06cc\u0627\u0646\u062a \u06a9\u0646\n",
                "    if defect_ratio > 0.3:\n",
                "        return \"Defect\"\n",
                "    \n",
                "    # \u0627\u06af\u0631 \u0641\u0642\u0637 \u06cc\u06a9\u06cc \u062f\u0648 \u0628\u0627\u0631 \u062e\u06cc\u0627\u0646\u062a \u06a9\u0631\u062f\u0647\u060c \u06af\u0627\u0647\u06cc \u062a\u0644\u0627\u0641\u06cc \u06a9\u0646\n",
                "    if opponent_moves[-1] == \"Defect\":\n",
                "        return \"Defect\"\n",
                "\n",
                "    # \u062f\u0631 \u063a\u06cc\u0631 \u0627\u06cc\u0646 \u0635\u0648\u0631\u062a \u0647\u0645\u06a9\u0627\u0631\u06cc \u06a9\u0646\n",
                "    return \"Cooperate\"\n"
            ]
        }
    ],
    "metadata": {
        "kernelspec": {
            "display_name": "Python 3 (ipykernel)",
            "language": "python",
            "name": "python3"
        },
        "language_info": {
            "codemirror_mode": {
                "name": "ipython",
                "version": 3
            },
            "file_extension": ".py",
            "mimetype": "text/x-python",
            "name": "python",
            "nbconvert_exporter": "python",
            "pygments_lexer": "ipython3",
            "version": "3.11.5"
        }
    },
    "nbformat": 4,
    "nbformat_minor": 5
}