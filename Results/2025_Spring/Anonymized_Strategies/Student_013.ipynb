{
    "cells": [
        {
            "cell_type": "code",
            "execution_count": null,
            "id": "f8e3ebb3",
            "metadata": {},
            "outputs": [],
            "source": [
                "def Student_013():\n",
                "    lookback = 20\n",
                "    defect_threshold = 0.4\n",
                "    forgive_probability = 0.3\n",
                "\n",
                "    if not history:\n",
                "        return \"Cooperate\"\n",
                "\n",
                "    my_moves, opponent_moves = zip(*history)\n",
                "\n",
                "    recent_moves = opponent_moves[-lookback:]\n",
                "    defect_count = recent_moves.count(\"Defect\")\n",
                "    defect_ratio = defect_count / len(recent_moves)\n",
                "\n",
                "    if defect_ratio >= defect_threshold:\n",
                "        return \"Defect\"\n",
                "\n",
                "    if recent_moves.count(\"Defect\") / len(opponent_moves) < 0.2:\n",
                "        return \"Cooperate\" if random.random() < forgive_probability else \"Defect\"\n",
                "    else:\n",
                "        return \"Cooperate\" if random.random() < 0.5 else \"Defect\""
            ]
        }
    ],
    "metadata": {
        "kernelspec": {
            "display_name": "Python 3 (ipykernel)",
            "language": "python",
            "name": "python3"
        },
        "language_info": {
            "codemirror_mode": {
                "name": "ipython",
                "version": 3
            },
            "file_extension": ".py",
            "mimetype": "text/x-python",
            "name": "python",
            "nbconvert_exporter": "python",
            "pygments_lexer": "ipython3",
            "version": "3.11.5"
        }
    },
    "nbformat": 4,
    "nbformat_minor": 5
}