{
    "cells": [
        {
            "cell_type": "code",
            "execution_count": 12,
            "id": "d920279c",
            "metadata": {},
            "outputs": [],
            "source": [
                "def Student_013(history):\n",
                "    \"\"\"\n",
                "    ArabAlidousti\u2019s strategy for Iterated Prisoner's Dilemma.\n",
                "    Starts with cooperation. Then:\n",
                "    - Cooperates if opponent cooperated last time.\n",
                "    - Forgives one defection, but if opponent defects two times in a row, defects in return.\n",
                "    \"\"\"\n",
                "    if len(history) == 0:\n",
                "        return \"Cooperate\"\n",
                "    elif history[-1][1] == \"Cooperate\":\n",
                "        return \"Cooperate\"\n",
                "    elif len(history) >= 2 and history[-2][1] == \"Defect\" and history[-1][1] == \"Defect\":\n",
                "        return \"Defect\"\n",
                "    else:\n",
                "        return \"Cooperate\""
            ]
        }
    ],
    "metadata": {
        "kernelspec": {
            "display_name": "Python 3 (ipykernel)",
            "language": "python",
            "name": "python3"
        },
        "language_info": {
            "codemirror_mode": {
                "name": "ipython",
                "version": 3
            },
            "file_extension": ".py",
            "mimetype": "text/x-python",
            "name": "python",
            "nbconvert_exporter": "python",
            "pygments_lexer": "ipython3",
            "version": "3.11.5"
        }
    },
    "nbformat": 4,
    "nbformat_minor": 5
}