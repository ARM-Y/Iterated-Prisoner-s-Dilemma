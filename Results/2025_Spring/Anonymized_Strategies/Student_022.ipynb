{
    "cells": [
        {
            "cell_type": "code",
            "execution_count": null,
            "id": "c963448c",
            "metadata": {},
            "outputs": [],
            "source": [
                "def Student_022():\n",
                "    if len(history) < 2:\n",
                "        return \"Cooperate\"  \n",
                "    else:\n",
                "        opponent_previous_move = history[-2][1]\n",
                "        return opponent_previous_move"
            ]
        }
    ],
    "metadata": {
        "kernelspec": {
            "display_name": "Python 3 (ipykernel)",
            "language": "python",
            "name": "python3"
        },
        "language_info": {
            "codemirror_mode": {
                "name": "ipython",
                "version": 3
            },
            "file_extension": ".py",
            "mimetype": "text/x-python",
            "name": "python",
            "nbconvert_exporter": "python",
            "pygments_lexer": "ipython3",
            "version": "3.11.5"
        }
    },
    "nbformat": 4,
    "nbformat_minor": 5
}