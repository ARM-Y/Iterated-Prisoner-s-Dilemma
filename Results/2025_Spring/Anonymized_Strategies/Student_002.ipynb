{
    "cells": [
        {
            "cell_type": "code",
            "execution_count": 2,
            "metadata": {
                "executionInfo": {
                    "elapsed": 334,
                    "status": "ok",
                    "timestamp": 1749226421379,
                    "user": {
                        "displayName": "Amirhosein Mohseni",
                        "userId": "12448547337606666506"
                    },
                    "user_tz": -210
                },
                "id": "9HPonqQtugWL"
            },
            "outputs": [],
            "source": [
                "def Student_002():\n",
                "    if len(history) == 0:\n",
                "        return \"Cooperate\"\n",
                "\n",
                "    opponent_moves = [move[1] for move in history]\n",
                "    num_rounds = len(history)\n",
                "\n",
                "\n",
                "    cooperation_rate = opponent_moves.count(\"Cooperate\") / num_rounds\n",
                "\n",
                "    if cooperation_rate > 0.6:\n",
                "        return \"Cooperate\"\n",
                "\n",
                "    elif 0.4 <= cooperation_rate <= 0.6:\n",
                "        if history[-1][1] == \"Defect\":\n",
                "            return \"Defect\"\n",
                "        else:\n",
                "            return \"Cooperate\"\n",
                "\n",
                "    else:\n",
                "        if \"Defect\" in opponent_moves[-2:]:\n",
                "            return \"Defect\"\n",
                "        else:\n",
                "            return \"Defect\"\n",
                "\n"
            ]
        }
    ],
    "metadata": {
        "colab": {
            "provenance": []
        },
        "kernelspec": {
            "display_name": "Python 3 (ipykernel)",
            "language": "python",
            "name": "python3"
        },
        "language_info": {
            "codemirror_mode": {
                "name": "ipython",
                "version": 3
            },
            "file_extension": ".py",
            "mimetype": "text/x-python",
            "name": "python",
            "nbconvert_exporter": "python",
            "pygments_lexer": "ipython3",
            "version": "3.11.5"
        }
    },
    "nbformat": 4,
    "nbformat_minor": 1
}