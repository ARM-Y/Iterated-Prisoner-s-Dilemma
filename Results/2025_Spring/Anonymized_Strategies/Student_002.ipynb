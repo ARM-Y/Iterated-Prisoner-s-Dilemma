{
    "cells": [
        {
            "cell_type": "code",
            "execution_count": 1,
            "metadata": {
                "id": "nRESeLbnJWhS"
            },
            "outputs": [],
            "source": [
                "def Student_002(history):\n",
                "    # \u067e\u0627\u0631\u0627\u0645\u062a\u0631\u0647\u0627\u06cc \u0627\u0633\u062a\u0631\u0627\u062a\u0698\u06cc\n",
                "    initial_cooperation = True\n",
                "    forgiveness_prob = 0.3\n",
                "    memory_length = 3\n",
                "\n",
                "    if not history:\n",
                "        return \"Cooperate\" if initial_cooperation else \"Defect\"\n",
                "\n",
                "    recent_moves = [h[1] for h in history[-memory_length:]]\n",
                "    defect_count = recent_moves.count(\"Defect\")\n",
                "    cooperate_count = recent_moves.count(\"Cooperate\")\n",
                "\n",
                "    if cooperate_count > defect_count:\n",
                "        return \"Cooperate\"\n",
                "    elif defect_count > cooperate_count:\n",
                "        import random\n",
                "        return \"Cooperate\" if random.random() < forgiveness_prob else \"Defect\"\n",
                "    else:\n",
                "        return history[-1][1]"
            ]
        }
    ],
    "metadata": {
        "colab": {
            "provenance": []
        },
        "kernelspec": {
            "display_name": "Python 3 (ipykernel)",
            "language": "python",
            "name": "python3"
        },
        "language_info": {
            "codemirror_mode": {
                "name": "ipython",
                "version": 3
            },
            "file_extension": ".py",
            "mimetype": "text/x-python",
            "name": "python",
            "nbconvert_exporter": "python",
            "pygments_lexer": "ipython3",
            "version": "3.11.5"
        }
    },
    "nbformat": 4,
    "nbformat_minor": 1
}