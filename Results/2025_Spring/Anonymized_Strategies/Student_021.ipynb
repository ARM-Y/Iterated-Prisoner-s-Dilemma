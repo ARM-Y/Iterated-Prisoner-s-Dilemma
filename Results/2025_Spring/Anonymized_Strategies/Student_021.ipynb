{
    "cells": [
        {
            "cell_type": "code",
            "execution_count": null,
            "id": "54f9f148-429d-4fe5-adbb-68e4ceb869c5",
            "metadata": {},
            "outputs": [],
            "source": [
                "def Student_021():\n",
                "    \"\"\"\n",
                "    Bully Strategy:\n",
                "    Starts by cooperating. If the opponent defects even once,\n",
                "    it defects for all subsequent rounds.\n",
                "    Otherwise, it continues to cooperate.\n",
                "    \"\"\"\n",
                "    if len(history) == 0:\n",
                "        return \"Cooperate\"  # Start by cooperating\n",
                "    else:\n",
                "        # Check if the opponent has ever defected\n",
                "        for _, opponent_move in history:\n",
                "            if opponent_move == \"Defect\":\n",
                "                return \"Defect\"  # If opponent ever defected, defect\n",
                "        return \"Cooperate\"  # Otherwise, continue cooperating\n"
            ]
        }
    ],
    "metadata": {
        "kernelspec": {
            "display_name": "Python 3 (ipykernel)",
            "language": "python",
            "name": "python3"
        },
        "language_info": {
            "codemirror_mode": {
                "name": "ipython",
                "version": 3
            },
            "file_extension": ".py",
            "mimetype": "text/x-python",
            "name": "python",
            "nbconvert_exporter": "python",
            "pygments_lexer": "ipython3",
            "version": "3.11.5"
        }
    },
    "nbformat": 4,
    "nbformat_minor": 5
}