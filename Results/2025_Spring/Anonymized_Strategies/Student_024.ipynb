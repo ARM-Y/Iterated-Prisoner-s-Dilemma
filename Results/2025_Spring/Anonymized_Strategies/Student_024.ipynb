{
    "cells": [
        {
            "cell_type": "code",
            "execution_count": 1,
            "id": "b8499854",
            "metadata": {},
            "outputs": [],
            "source": [
                "def Student_024(history):\n",
                " # Always cooperate in first 3 rounds\n",
                "    if len(history) < 3:\n",
                "        return \"Cooperate\"\n",
                "    \n",
                "    # Calculate opponent's cooperation rate\n",
                "    opponent_moves = [move[1] for move in history]\n",
                "    cooperate_rate = sum(1 for m in opponent_moves if m == \"Cooperate\") / len(opponent_moves)\n",
                "    \n",
                "    # If opponent defected last 2 rounds, retaliate\n",
                "    if len(history) >= 2 and opponent_moves[-2:] == [\"Defect\", \"Defect\"]:\n",
                "        return \"Defect\"\n",
                "    \n",
                "    # Base decision on opponent's overall cooperation rate\n",
                "    return \"Cooperate\" if cooperate_rate >= 0.6 else \"Defect\""
            ]
        }
    ],
    "metadata": {
        "kernelspec": {
            "display_name": "Python 3 (ipykernel)",
            "language": "python",
            "name": "python3"
        },
        "language_info": {
            "codemirror_mode": {
                "name": "ipython",
                "version": 3
            },
            "file_extension": ".py",
            "mimetype": "text/x-python",
            "name": "python",
            "nbconvert_exporter": "python",
            "pygments_lexer": "ipython3",
            "version": "3.11.5"
        }
    },
    "nbformat": 4,
    "nbformat_minor": 5
}