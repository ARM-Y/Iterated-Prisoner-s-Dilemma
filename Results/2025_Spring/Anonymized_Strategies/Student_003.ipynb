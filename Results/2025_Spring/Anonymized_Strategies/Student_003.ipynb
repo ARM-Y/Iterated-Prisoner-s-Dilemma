{
    "cells": [
        {
            "cell_type": "code",
            "execution_count": null,
            "id": "b7f4eb17",
            "metadata": {},
            "outputs": [],
            "source": [
                "def Student_003():\n",
                "    if len(history) == 0:\n",
                "        return \"Cooperate\"\n",
                "    else:\n",
                "        opponent_last_move = history[-1][1]\n",
                "        if opponent_last_move == \"Defect\":\n",
                "            return \"Defect\" if random.random() < 0.8 else \"Cooperate\"  \n",
                "        else:\n",
                "            return \"Defect\" if random.random() < 0.05 else \"Cooperate\"  "
            ]
        }
    ],
    "metadata": {
        "kernelspec": {
            "display_name": "Python 3 (ipykernel)",
            "language": "python",
            "name": "python3"
        },
        "language_info": {
            "codemirror_mode": {
                "name": "ipython",
                "version": 3
            },
            "file_extension": ".py",
            "mimetype": "text/x-python",
            "name": "python",
            "nbconvert_exporter": "python",
            "pygments_lexer": "ipython3",
            "version": "3.11.5"
        }
    },
    "nbformat": 4,
    "nbformat_minor": 5
}