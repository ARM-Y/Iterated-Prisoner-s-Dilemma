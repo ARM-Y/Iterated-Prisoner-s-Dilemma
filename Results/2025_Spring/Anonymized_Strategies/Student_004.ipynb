{
    "cells": [
        {
            "cell_type": "code",
            "execution_count": null,
            "id": "b7f4eb17",
            "metadata": {},
            "outputs": [],
            "source": [
                "def Student_004():\n",
                "\n",
                "    # \u06f1. \u0627\u06af\u0631 \u062f\u0648\u0631 \u0627\u0648\u0644 \u0627\u0633\u062a\u060c \u062d\u062a\u0645\u0627\u064b \u0647\u0645\u06a9\u0627\u0631\u06cc \u06a9\u0646\n",
                "    if not history:\n",
                "        return \"Cooperate\"\n",
                "\n",
                "    current_round = len(history)  # \u062a\u0639\u062f\u0627\u062f \u062f\u0633\u062a\u200c\u0647\u0627\u06cc\u06cc \u06a9\u0647 \u0642\u0628\u0644\u0627\u064b \u0628\u0627\u0632\u06cc \u0634\u062f\u0647\n",
                "\n",
                "    if current_round == 17:\n",
                "        return \"Defect\"\n",
                "\n",
                "    if current_round >= 18:\n",
                "        return \"Defect\"\n",
                "\n",
                "    recent_window = history[-5:]\n",
                "    opp_recent_defects = sum(1 for (_, o) in recent_window if o == \"Defect\")\n",
                "    if opp_recent_defects >= 3:\n",
                "        return \"Defect\"\n",
                "\n",
                "\n",
                "    total_rounds = current_round  \n",
                "    opp_total_coops = sum(1 for (_, o) in history if o == \"Cooperate\")\n",
                "    opp_coop_rate = opp_total_coops / total_rounds\n",
                "\n",
                "\n",
                "    last_exploit_round = None\n",
                "    for idx, (m, o) in enumerate(history):\n",
                "        if m == \"Defect\" and o == \"Cooperate\":\n",
                "            last_exploit_round = idx + 1  \n",
                "\n",
                "\n",
                "    if opp_coop_rate > 0.90:\n",
                "        if (last_exploit_round is None) or (current_round - last_exploit_round >= 6):\n",
                "            return \"Defect\"\n",
                "\n",
                "    my_last, opp_last = history[-1]\n",
                "    if opp_last == \"Defect\":\n",
                "        return \"Defect\"\n",
                "    else:\n",
                "        return \"Cooperate\""
            ]
        }
    ],
    "metadata": {
        "kernelspec": {
            "display_name": "Python 3 (ipykernel)",
            "language": "python",
            "name": "python3"
        },
        "language_info": {
            "codemirror_mode": {
                "name": "ipython",
                "version": 3
            },
            "file_extension": ".py",
            "mimetype": "text/x-python",
            "name": "python",
            "nbconvert_exporter": "python",
            "pygments_lexer": "ipython3",
            "version": "3.11.5"
        }
    },
    "nbformat": 4,
    "nbformat_minor": 5
}