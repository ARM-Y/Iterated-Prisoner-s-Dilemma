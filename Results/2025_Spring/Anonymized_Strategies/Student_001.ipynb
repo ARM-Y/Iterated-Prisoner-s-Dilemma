{
    "cells": [
        {
            "cell_type": "code",
            "execution_count": null,
            "id": "2599bc9e",
            "metadata": {},
            "outputs": [],
            "source": [
                "import random\n",
                "def Student_001():\n",
                "\n",
                "    if not history:\n",
                "        return \"Cooperate\"\n",
                "\n",
                "    my_moves = [x[0] for x in history]\n",
                "    opponent_moves = [x[1] for x in history]\n",
                "    round_num = len(history)\n",
                "\n",
                "    total_defects = opponent_moves.count(\"Defect\")\n",
                "    defect_rate = total_defects / round_num\n",
                "\n",
                "    if round_num <= 3:\n",
                "        return \"Cooperate\"\n",
                "\n",
                "    if defect_rate > 0.5:\n",
                "        return \"Defect\"\n",
                "\n",
                "    recent = opponent_moves[-5:]\n",
                "    if recent.count(\"Cooperate\") >= 4 and random.random() < 0.4:\n",
                "        return \"Defect\"\n",
                "\n",
                "    if opponent_moves[-3:] == [\"Defect\"] * 3:\n",
                "        return \"Defect\"\n",
                "\n",
                "    if opponent_moves[-1] == \"Defect\":\n",
                "        return \"Defect\" if random.random() < 0.6 else \"Cooperate\"\n",
                "\n",
                "    if defect_rate < 0.3:\n",
                "        return \"Cooperate\"\n",
                "\n",
                "    if round_num >= 15:\n",
                "        return \"Cooperate\" if random.random() < 0.8 else \"Defect\"\n",
                "\n",
                "    if random.random() < 0.1:\n",
                "        return \"Defect\"\n",
                "\n",
                "    return \"Cooperate\"\n"
            ]
        }
    ],
    "metadata": {
        "kernelspec": {
            "display_name": "Python 3 (ipykernel)",
            "language": "python",
            "name": "python3"
        },
        "language_info": {
            "codemirror_mode": {
                "name": "ipython",
                "version": 3
            },
            "file_extension": ".py",
            "mimetype": "text/x-python",
            "name": "python",
            "nbconvert_exporter": "python",
            "pygments_lexer": "ipython3",
            "version": "3.11.5"
        }
    },
    "nbformat": 4,
    "nbformat_minor": 5
}