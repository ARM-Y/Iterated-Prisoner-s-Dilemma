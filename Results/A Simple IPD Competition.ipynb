{
 "cells": [
  {
   "cell_type": "markdown",
   "id": "2680c446",
   "metadata": {},
   "source": [
    "## Importing libraries"
   ]
  },
  {
   "cell_type": "code",
   "execution_count": 1,
   "id": "eecc83d7",
   "metadata": {},
   "outputs": [],
   "source": [
    "import random\n",
    "import pandas as pd"
   ]
  },
  {
   "cell_type": "markdown",
   "id": "7b9c9d2d",
   "metadata": {},
   "source": [
    "# Competition\n",
    "To have a simple competition we must first develop some strategies:"
   ]
  },
  {
   "cell_type": "code",
   "execution_count": 2,
   "id": "f765f83d",
   "metadata": {},
   "outputs": [],
   "source": [
    "def tit_for_tat(history):\n",
    "    if len(history) == 0:\n",
    "        return \"Cooperate\"\n",
    "    else:\n",
    "        # Cooperate if the opponent cooperated in the last round, else defect\n",
    "        opponent_last_move = history[-1][1]\n",
    "        return opponent_last_move\n",
    "\n",
    "def tit_for_tat_With_Suprise(history):\n",
    "    if len(history) == 0:\n",
    "        return \"Cooperate\"\n",
    "    else:\n",
    "        if random.random()>0.5:\n",
    "            return \"Defect\"\n",
    "        else:\n",
    "            \n",
    "            # Cooperate if the opponent cooperated in the last round, else defect\n",
    "            opponent_last_move = history[-1][1]\n",
    "            return opponent_last_move\n",
    "        \n",
    "def always_cooperate(history):\n",
    "    return \"Cooperate\"\n",
    "\n",
    "def always_defect(history):\n",
    "    return \"Defect\"\n",
    "\n",
    "def Random(history):\n",
    "    if random.random()>0.5:\n",
    "        return \"Cooperate\"\n",
    "    else: \n",
    "        return \"Defect\""
   ]
  },
  {
   "cell_type": "markdown",
   "id": "1b6dee34",
   "metadata": {},
   "source": [
    "list of strategies in competition:"
   ]
  },
  {
   "cell_type": "code",
   "execution_count": 3,
   "id": "ebfec434",
   "metadata": {},
   "outputs": [],
   "source": [
    "strategies = [always_cooperate,always_defect,Random,tit_for_tat_With_Suprise,tit_for_tat]"
   ]
  },
  {
   "cell_type": "markdown",
   "id": "7f14ecb0",
   "metadata": {},
   "source": [
    "An altered version of play function for gathering information in competition."
   ]
  },
  {
   "cell_type": "code",
   "execution_count": 4,
   "id": "bab96b3c",
   "metadata": {},
   "outputs": [],
   "source": [
    "def play_game(strategy1, strategy2):\n",
    "\n",
    "    score1 = 0\n",
    "    score2 = 0\n",
    "\n",
    "    for _ in range(20):\n",
    "        move1 = strategy1(history)\n",
    "        flipped_history = [(move2, move1) for move1, move2 in history]\n",
    "        move2 = strategy2(flipped_history)\n",
    "\n",
    "        if move1 == \"Cooperate\" and move2 == \"Cooperate\":\n",
    "            score1 += 3\n",
    "            score2 += 3\n",
    "        elif move1 == \"Cooperate\" and move2 == \"Defect\":\n",
    "            score1 += 0\n",
    "            score2 += 5\n",
    "        elif move1 == \"Defect\" and move2 == \"Cooperate\":\n",
    "            score1 += 5\n",
    "            score2 += 0\n",
    "        elif move1 == \"Defect\" and move2 == \"Defect\":\n",
    "            score1 += 1\n",
    "            score2 += 1\n",
    "\n",
    "        history.append((move1, move2))\n",
    "\n",
    "    if score1 > score2:\n",
    "        return strategy1.__name__, strategy2.__name__, score1, score2, strategy1.__name__ + \" wins\"\n",
    "    elif score2 > score1:\n",
    "        return strategy1.__name__, strategy2.__name__, score1, score2, strategy2.__name__ + \" wins\"\n",
    "    else:\n",
    "        return strategy1.__name__, strategy2.__name__, score1, score2, \"It's a tie\""
   ]
  },
  {
   "cell_type": "code",
   "execution_count": 5,
   "id": "5be399ff",
   "metadata": {},
   "outputs": [
    {
     "name": "stdout",
     "output_type": "stream",
     "text": [
      "('tit_for_tat', 'Random', 47, 52, 'Random wins')\n"
     ]
    }
   ],
   "source": [
    "# Example usage\n",
    "history = []\n",
    "print(play_game(tit_for_tat, Random))"
   ]
  },
  {
   "cell_type": "code",
   "execution_count": 6,
   "id": "1a1a2d8c",
   "metadata": {},
   "outputs": [
    {
     "data": {
      "text/plain": [
       "[('Cooperate', 'Cooperate'),\n",
       " ('Cooperate', 'Defect'),\n",
       " ('Defect', 'Cooperate'),\n",
       " ('Cooperate', 'Defect'),\n",
       " ('Defect', 'Defect'),\n",
       " ('Defect', 'Defect'),\n",
       " ('Defect', 'Cooperate'),\n",
       " ('Cooperate', 'Defect'),\n",
       " ('Defect', 'Cooperate'),\n",
       " ('Cooperate', 'Cooperate'),\n",
       " ('Cooperate', 'Cooperate'),\n",
       " ('Cooperate', 'Cooperate'),\n",
       " ('Cooperate', 'Defect'),\n",
       " ('Defect', 'Defect'),\n",
       " ('Defect', 'Cooperate'),\n",
       " ('Cooperate', 'Cooperate'),\n",
       " ('Cooperate', 'Cooperate'),\n",
       " ('Cooperate', 'Cooperate'),\n",
       " ('Cooperate', 'Cooperate'),\n",
       " ('Cooperate', 'Defect')]"
      ]
     },
     "execution_count": 6,
     "metadata": {},
     "output_type": "execute_result"
    }
   ],
   "source": [
    "history"
   ]
  },
  {
   "cell_type": "markdown",
   "id": "080a50ce",
   "metadata": {},
   "source": [
    "Main competition:"
   ]
  },
  {
   "cell_type": "code",
   "execution_count": 7,
   "id": "686d5585",
   "metadata": {},
   "outputs": [
    {
     "name": "stdout",
     "output_type": "stream",
     "text": [
      "Detailed Results:\n",
      "                 Strategy 1                Strategy 2  Score 1  Score 2  \\\n",
      "0          always_cooperate             always_defect        0      100   \n",
      "1          always_cooperate                    Random       36       76   \n",
      "2          always_cooperate  tit_for_tat_With_Suprise       36       76   \n",
      "3          always_cooperate               tit_for_tat       60       60   \n",
      "4             always_defect                    Random       68        8   \n",
      "5             always_defect  tit_for_tat_With_Suprise       24       19   \n",
      "6             always_defect               tit_for_tat       24       19   \n",
      "7                    Random  tit_for_tat_With_Suprise       23       58   \n",
      "8                    Random               tit_for_tat       53       48   \n",
      "9  tit_for_tat_With_Suprise               tit_for_tat       28       23   \n",
      "\n",
      "                          Result  \n",
      "0             always_defect wins  \n",
      "1                    Random wins  \n",
      "2  tit_for_tat_With_Suprise wins  \n",
      "3                     It's a tie  \n",
      "4             always_defect wins  \n",
      "5             always_defect wins  \n",
      "6             always_defect wins  \n",
      "7  tit_for_tat_With_Suprise wins  \n",
      "8                    Random wins  \n",
      "9  tit_for_tat_With_Suprise wins  \n",
      "\n",
      "Summary:\n",
      "                   Strategy  Total Score  Wins  Losses  Draws\n",
      "0          always_cooperate          132     0       3      1\n",
      "1             always_defect          216     4       0      0\n",
      "2                    Random          160     2       2      0\n",
      "3  tit_for_tat_With_Suprise          181     3       1      0\n",
      "4               tit_for_tat          150     0       3      1\n"
     ]
    }
   ],
   "source": [
    "# Initialize results storage\n",
    "results = []\n",
    "histories = []\n",
    "\n",
    "# Play games between each unique pair of strategies\n",
    "for i in range(len(strategies)):\n",
    "    for j in range(i + 1, len(strategies)):\n",
    "        strategy1 = strategies[i]\n",
    "        strategy2 = strategies[j]\n",
    "        history = []\n",
    "        result = play_game(strategy1, strategy2)\n",
    "        results.append(result)\n",
    "        histories.append(history)\n",
    "\n",
    "# Create DataFrame\n",
    "df = pd.DataFrame(results, columns=[\"Strategy 1\", \"Strategy 2\", \"Score 1\", \"Score 2\", \"Result\"])\n",
    "\n",
    "# Calculate score summations, wins, losses, draws\n",
    "summary = []\n",
    "for strategy in strategies:\n",
    "    name = strategy.__name__\n",
    "    total_score = df.loc[df[\"Strategy 1\"] == name, \"Score 1\"].sum() + df.loc[df[\"Strategy 2\"] == name, \"Score 2\"].sum()\n",
    "    wins = len(df[(df[\"Strategy 1\"] == name) & (df[\"Result\"] == name + \" wins\")]) + len(df[(df[\"Strategy 2\"] == name) & (df[\"Result\"] == name + \" wins\")])\n",
    "    losses = len(df[(df[\"Strategy 1\"] == name) & (df[\"Result\"] != name + \" wins\") & (df[\"Result\"] != \"It's a tie\")]) + len(df[(df[\"Strategy 2\"] == name) & (df[\"Result\"] != name + \" wins\") & (df[\"Result\"] != \"It's a tie\")])\n",
    "    draws = len(df[(df[\"Strategy 1\"] == name) & (df[\"Result\"] == \"It's a tie\")]) + len(df[(df[\"Strategy 2\"] == name) & (df[\"Result\"] == \"It's a tie\")])\n",
    "    \n",
    "    summary.append((name, total_score, wins, losses, draws))\n",
    "\n",
    "summary_df = pd.DataFrame(summary, columns=[\"Strategy\", \"Total Score\", \"Wins\", \"Losses\", \"Draws\"])\n",
    "\n",
    "print(\"Detailed Results:\")\n",
    "print(df)\n",
    "print(\"\\nSummary:\")\n",
    "print(summary_df)"
   ]
  },
  {
   "cell_type": "code",
   "execution_count": 8,
   "id": "d9f9feef",
   "metadata": {},
   "outputs": [
    {
     "data": {
      "text/html": [
       "<div>\n",
       "<style scoped>\n",
       "    .dataframe tbody tr th:only-of-type {\n",
       "        vertical-align: middle;\n",
       "    }\n",
       "\n",
       "    .dataframe tbody tr th {\n",
       "        vertical-align: top;\n",
       "    }\n",
       "\n",
       "    .dataframe thead th {\n",
       "        text-align: right;\n",
       "    }\n",
       "</style>\n",
       "<table border=\"1\" class=\"dataframe\">\n",
       "  <thead>\n",
       "    <tr style=\"text-align: right;\">\n",
       "      <th></th>\n",
       "      <th>Strategy 1</th>\n",
       "      <th>Strategy 2</th>\n",
       "      <th>Score 1</th>\n",
       "      <th>Score 2</th>\n",
       "      <th>Result</th>\n",
       "    </tr>\n",
       "  </thead>\n",
       "  <tbody>\n",
       "    <tr>\n",
       "      <th>0</th>\n",
       "      <td>always_cooperate</td>\n",
       "      <td>always_defect</td>\n",
       "      <td>0</td>\n",
       "      <td>100</td>\n",
       "      <td>always_defect wins</td>\n",
       "    </tr>\n",
       "    <tr>\n",
       "      <th>1</th>\n",
       "      <td>always_cooperate</td>\n",
       "      <td>Random</td>\n",
       "      <td>36</td>\n",
       "      <td>76</td>\n",
       "      <td>Random wins</td>\n",
       "    </tr>\n",
       "    <tr>\n",
       "      <th>2</th>\n",
       "      <td>always_cooperate</td>\n",
       "      <td>tit_for_tat_With_Suprise</td>\n",
       "      <td>36</td>\n",
       "      <td>76</td>\n",
       "      <td>tit_for_tat_With_Suprise wins</td>\n",
       "    </tr>\n",
       "    <tr>\n",
       "      <th>3</th>\n",
       "      <td>always_cooperate</td>\n",
       "      <td>tit_for_tat</td>\n",
       "      <td>60</td>\n",
       "      <td>60</td>\n",
       "      <td>It's a tie</td>\n",
       "    </tr>\n",
       "    <tr>\n",
       "      <th>4</th>\n",
       "      <td>always_defect</td>\n",
       "      <td>Random</td>\n",
       "      <td>68</td>\n",
       "      <td>8</td>\n",
       "      <td>always_defect wins</td>\n",
       "    </tr>\n",
       "    <tr>\n",
       "      <th>5</th>\n",
       "      <td>always_defect</td>\n",
       "      <td>tit_for_tat_With_Suprise</td>\n",
       "      <td>24</td>\n",
       "      <td>19</td>\n",
       "      <td>always_defect wins</td>\n",
       "    </tr>\n",
       "    <tr>\n",
       "      <th>6</th>\n",
       "      <td>always_defect</td>\n",
       "      <td>tit_for_tat</td>\n",
       "      <td>24</td>\n",
       "      <td>19</td>\n",
       "      <td>always_defect wins</td>\n",
       "    </tr>\n",
       "    <tr>\n",
       "      <th>7</th>\n",
       "      <td>Random</td>\n",
       "      <td>tit_for_tat_With_Suprise</td>\n",
       "      <td>23</td>\n",
       "      <td>58</td>\n",
       "      <td>tit_for_tat_With_Suprise wins</td>\n",
       "    </tr>\n",
       "    <tr>\n",
       "      <th>8</th>\n",
       "      <td>Random</td>\n",
       "      <td>tit_for_tat</td>\n",
       "      <td>53</td>\n",
       "      <td>48</td>\n",
       "      <td>Random wins</td>\n",
       "    </tr>\n",
       "    <tr>\n",
       "      <th>9</th>\n",
       "      <td>tit_for_tat_With_Suprise</td>\n",
       "      <td>tit_for_tat</td>\n",
       "      <td>28</td>\n",
       "      <td>23</td>\n",
       "      <td>tit_for_tat_With_Suprise wins</td>\n",
       "    </tr>\n",
       "  </tbody>\n",
       "</table>\n",
       "</div>"
      ],
      "text/plain": [
       "                 Strategy 1                Strategy 2  Score 1  Score 2  \\\n",
       "0          always_cooperate             always_defect        0      100   \n",
       "1          always_cooperate                    Random       36       76   \n",
       "2          always_cooperate  tit_for_tat_With_Suprise       36       76   \n",
       "3          always_cooperate               tit_for_tat       60       60   \n",
       "4             always_defect                    Random       68        8   \n",
       "5             always_defect  tit_for_tat_With_Suprise       24       19   \n",
       "6             always_defect               tit_for_tat       24       19   \n",
       "7                    Random  tit_for_tat_With_Suprise       23       58   \n",
       "8                    Random               tit_for_tat       53       48   \n",
       "9  tit_for_tat_With_Suprise               tit_for_tat       28       23   \n",
       "\n",
       "                          Result  \n",
       "0             always_defect wins  \n",
       "1                    Random wins  \n",
       "2  tit_for_tat_With_Suprise wins  \n",
       "3                     It's a tie  \n",
       "4             always_defect wins  \n",
       "5             always_defect wins  \n",
       "6             always_defect wins  \n",
       "7  tit_for_tat_With_Suprise wins  \n",
       "8                    Random wins  \n",
       "9  tit_for_tat_With_Suprise wins  "
      ]
     },
     "execution_count": 8,
     "metadata": {},
     "output_type": "execute_result"
    }
   ],
   "source": [
    "df"
   ]
  },
  {
   "cell_type": "markdown",
   "id": "9df353ea",
   "metadata": {},
   "source": [
    "Sorted strategies based on scores"
   ]
  },
  {
   "cell_type": "code",
   "execution_count": 9,
   "id": "259dab6a",
   "metadata": {},
   "outputs": [
    {
     "data": {
      "text/html": [
       "<div>\n",
       "<style scoped>\n",
       "    .dataframe tbody tr th:only-of-type {\n",
       "        vertical-align: middle;\n",
       "    }\n",
       "\n",
       "    .dataframe tbody tr th {\n",
       "        vertical-align: top;\n",
       "    }\n",
       "\n",
       "    .dataframe thead th {\n",
       "        text-align: right;\n",
       "    }\n",
       "</style>\n",
       "<table border=\"1\" class=\"dataframe\">\n",
       "  <thead>\n",
       "    <tr style=\"text-align: right;\">\n",
       "      <th></th>\n",
       "      <th>Strategy</th>\n",
       "      <th>Total Score</th>\n",
       "      <th>Wins</th>\n",
       "      <th>Losses</th>\n",
       "      <th>Draws</th>\n",
       "    </tr>\n",
       "  </thead>\n",
       "  <tbody>\n",
       "    <tr>\n",
       "      <th>1</th>\n",
       "      <td>always_defect</td>\n",
       "      <td>216</td>\n",
       "      <td>4</td>\n",
       "      <td>0</td>\n",
       "      <td>0</td>\n",
       "    </tr>\n",
       "    <tr>\n",
       "      <th>3</th>\n",
       "      <td>tit_for_tat_With_Suprise</td>\n",
       "      <td>181</td>\n",
       "      <td>3</td>\n",
       "      <td>1</td>\n",
       "      <td>0</td>\n",
       "    </tr>\n",
       "    <tr>\n",
       "      <th>2</th>\n",
       "      <td>Random</td>\n",
       "      <td>160</td>\n",
       "      <td>2</td>\n",
       "      <td>2</td>\n",
       "      <td>0</td>\n",
       "    </tr>\n",
       "    <tr>\n",
       "      <th>4</th>\n",
       "      <td>tit_for_tat</td>\n",
       "      <td>150</td>\n",
       "      <td>0</td>\n",
       "      <td>3</td>\n",
       "      <td>1</td>\n",
       "    </tr>\n",
       "    <tr>\n",
       "      <th>0</th>\n",
       "      <td>always_cooperate</td>\n",
       "      <td>132</td>\n",
       "      <td>0</td>\n",
       "      <td>3</td>\n",
       "      <td>1</td>\n",
       "    </tr>\n",
       "  </tbody>\n",
       "</table>\n",
       "</div>"
      ],
      "text/plain": [
       "                   Strategy  Total Score  Wins  Losses  Draws\n",
       "1             always_defect          216     4       0      0\n",
       "3  tit_for_tat_With_Suprise          181     3       1      0\n",
       "2                    Random          160     2       2      0\n",
       "4               tit_for_tat          150     0       3      1\n",
       "0          always_cooperate          132     0       3      1"
      ]
     },
     "execution_count": 9,
     "metadata": {},
     "output_type": "execute_result"
    }
   ],
   "source": [
    "summary_df = summary_df.sort_values(by='Total Score', ascending=False)\n",
    "summary_df"
   ]
  },
  {
   "cell_type": "markdown",
   "id": "5086d062",
   "metadata": {},
   "source": [
    "In this competition, the 'always-defect' strategy was the winning one."
   ]
  },
  {
   "cell_type": "markdown",
   "id": "13f7531f",
   "metadata": {},
   "source": [
    "An arbitrary history of a game can be obtained like this:"
   ]
  },
  {
   "cell_type": "code",
   "execution_count": 10,
   "id": "78bce7cb",
   "metadata": {},
   "outputs": [
    {
     "data": {
      "text/plain": [
       "[('Defect', 'Cooperate'),\n",
       " ('Defect', 'Defect'),\n",
       " ('Defect', 'Defect'),\n",
       " ('Defect', 'Defect'),\n",
       " ('Defect', 'Defect'),\n",
       " ('Defect', 'Defect'),\n",
       " ('Defect', 'Defect'),\n",
       " ('Defect', 'Defect'),\n",
       " ('Defect', 'Defect'),\n",
       " ('Defect', 'Defect'),\n",
       " ('Defect', 'Defect'),\n",
       " ('Defect', 'Defect'),\n",
       " ('Defect', 'Defect'),\n",
       " ('Defect', 'Defect'),\n",
       " ('Defect', 'Defect'),\n",
       " ('Defect', 'Defect'),\n",
       " ('Defect', 'Defect'),\n",
       " ('Defect', 'Defect'),\n",
       " ('Defect', 'Defect'),\n",
       " ('Defect', 'Defect')]"
      ]
     },
     "execution_count": 10,
     "metadata": {},
     "output_type": "execute_result"
    }
   ],
   "source": [
    "Play_number = 5 #always_defect vs tit_for_tat_With_Suprise\n",
    "histories[Play_number]"
   ]
  }
 ],
 "metadata": {
  "kernelspec": {
   "display_name": "Python 3 (ipykernel)",
   "language": "python",
   "name": "python3"
  },
  "language_info": {
   "codemirror_mode": {
    "name": "ipython",
    "version": 3
   },
   "file_extension": ".py",
   "mimetype": "text/x-python",
   "name": "python",
   "nbconvert_exporter": "python",
   "pygments_lexer": "ipython3",
   "version": "3.11.5"
  }
 },
 "nbformat": 4,
 "nbformat_minor": 5
}
