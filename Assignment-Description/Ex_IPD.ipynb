{
 "cells": [
  {
   "cell_type": "markdown",
   "id": "2680c446",
   "metadata": {},
   "source": [
    "## Importing libraries"
   ]
  },
  {
   "cell_type": "code",
   "execution_count": 2,
   "id": "eecc83d7",
   "metadata": {},
   "outputs": [],
   "source": [
    "import random\n",
    "import pandas as pd"
   ]
  },
  {
   "cell_type": "markdown",
   "id": "5e5e7538",
   "metadata": {},
   "source": [
    "## Defining Strategies\n",
    "\n",
    "All strategies must be defined in a function that uses \"history\" as input and outputs \"Cooperate\" or \"Defect\" in each round. (20 rounds in total)\n",
    "\n",
    "Here, we define two sample strategies named \"Tit for Tat\" and \"Random.\""
   ]
  },
  {
   "cell_type": "code",
   "execution_count": 3,
   "id": "a646d0f8",
   "metadata": {},
   "outputs": [],
   "source": [
    "def tit_for_tat(history):\n",
    "    if len(history) == 0:\n",
    "        return \"Cooperate\"\n",
    "    else:\n",
    "        # Cooperate if the opponent cooperated in the last round, else defect\n",
    "        opponent_last_move = history[-1][1]\n",
    "        return opponent_last_move\n",
    "\n",
    "def Random(history):\n",
    "    if random.random()>0.5:\n",
    "        return \"Cooperate\"\n",
    "    else: \n",
    "        return \"Defect\""
   ]
  },
  {
   "cell_type": "markdown",
   "id": "7aa8d974",
   "metadata": {},
   "source": [
    "You must create your own strategy, considering your logic and your estimation of others' strategies.\n",
    "\n",
    "Make sure to double-check your strategy; there should be no errors.\n",
    "\n",
    "Your function name must be your last name. For example:"
   ]
  },
  {
   "cell_type": "code",
   "execution_count": 1,
   "id": "b7f4eb17",
   "metadata": {},
   "outputs": [],
   "source": [
    "def Asghari(history):\n",
    "    #Your strategy\n",
    "    pass"
   ]
  },
  {
   "cell_type": "markdown",
   "id": "3cc7cb47",
   "metadata": {},
   "source": [
    "## Testing Strategies\n",
    "\n",
    "All strategies compete in a league, meaning every strategy competes against the others. \n",
    "\n",
    "At the end, the one who gets the most points wins the game. \n",
    "\n",
    "An example of a competition (play) can be seen below:"
   ]
  },
  {
   "cell_type": "code",
   "execution_count": 7,
   "id": "a88fe02e",
   "metadata": {},
   "outputs": [
    {
     "name": "stdout",
     "output_type": "stream",
     "text": [
      "Score for tit_for_tat : 48 \n",
      "Score for Random : 53\n",
      "Random wins\n"
     ]
    }
   ],
   "source": [
    "def play_game(strategy1, strategy2):\n",
    "    \n",
    "    score1 = 0\n",
    "    score2 = 0\n",
    "    \n",
    "    for _ in range(20):\n",
    "        move1 = strategy1(history)\n",
    "        flipped_history = [(move_2, move_1) for move_1, move_2 in history]\n",
    "        move2 = strategy2(flipped_history)\n",
    "        \n",
    "        if move1 == \"Cooperate\" and move2 == \"Cooperate\":\n",
    "            score1 += 3\n",
    "            score2 += 3\n",
    "        elif move1 == \"Cooperate\" and move2 == \"Defect\":\n",
    "            score1 += 0\n",
    "            score2 += 5\n",
    "        elif move1 == \"Defect\" and move2 == \"Cooperate\":\n",
    "            score1 += 5\n",
    "            score2 += 0\n",
    "        elif move1 == \"Defect\" and move2 == \"Defect\":\n",
    "            score1 += 1\n",
    "            score2 += 1\n",
    "            \n",
    "        history.append((move1, move2))\n",
    "        \n",
    "    print(\"Score for\", strategy1.__name__,\":\",score1,\"\\nScore for\", strategy2.__name__,\":\",score2)\n",
    "    \n",
    "    if score1 > score2:\n",
    "        return strategy1.__name__+\" wins\"\n",
    "    elif score2 > score1:\n",
    "        return strategy2.__name__+\" wins\"\n",
    "    else:\n",
    "        return \"It's a tie\"\n",
    "    \n",
    "\n",
    "# Example usage\n",
    "history = []\n",
    "print(play_game(tit_for_tat, Random))"
   ]
  },
  {
   "cell_type": "markdown",
   "id": "5430e443",
   "metadata": {},
   "source": [
    "One might also want to see the history."
   ]
  },
  {
   "cell_type": "code",
   "execution_count": 8,
   "id": "48c7e87b",
   "metadata": {},
   "outputs": [
    {
     "data": {
      "text/plain": [
       "[('Cooperate', 'Cooperate'),\n",
       " ('Cooperate', 'Cooperate'),\n",
       " ('Cooperate', 'Defect'),\n",
       " ('Defect', 'Defect'),\n",
       " ('Defect', 'Cooperate'),\n",
       " ('Cooperate', 'Defect'),\n",
       " ('Defect', 'Cooperate'),\n",
       " ('Cooperate', 'Cooperate'),\n",
       " ('Cooperate', 'Defect'),\n",
       " ('Defect', 'Defect'),\n",
       " ('Defect', 'Cooperate'),\n",
       " ('Cooperate', 'Defect'),\n",
       " ('Defect', 'Cooperate'),\n",
       " ('Cooperate', 'Cooperate'),\n",
       " ('Cooperate', 'Cooperate'),\n",
       " ('Cooperate', 'Cooperate'),\n",
       " ('Cooperate', 'Defect'),\n",
       " ('Defect', 'Cooperate'),\n",
       " ('Cooperate', 'Cooperate'),\n",
       " ('Cooperate', 'Defect')]"
      ]
     },
     "execution_count": 8,
     "metadata": {},
     "output_type": "execute_result"
    }
   ],
   "source": [
    "history"
   ]
  }
 ],
 "metadata": {
  "kernelspec": {
   "display_name": "Python 3 (ipykernel)",
   "language": "python",
   "name": "python3"
  },
  "language_info": {
   "codemirror_mode": {
    "name": "ipython",
    "version": 3
   },
   "file_extension": ".py",
   "mimetype": "text/x-python",
   "name": "python",
   "nbconvert_exporter": "python",
   "pygments_lexer": "ipython3",
   "version": "3.11.5"
  }
 },
 "nbformat": 4,
 "nbformat_minor": 5
}
